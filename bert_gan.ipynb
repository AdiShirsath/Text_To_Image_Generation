{
 "cells": [
  {
   "cell_type": "markdown",
   "id": "39f28394-7699-440b-a4f8-8dce4bd3c266",
   "metadata": {},
   "source": [
    "### Imports"
   ]
  },
  {
   "cell_type": "code",
   "execution_count": 1,
   "id": "bce5cc82-16ee-4e42-ae1f-281042d969e4",
   "metadata": {},
   "outputs": [
    {
     "name": "stderr",
     "output_type": "stream",
     "text": [
      "/opt/anaconda3/envs/intro_dl/lib/python3.12/site-packages/tqdm/auto.py:21: TqdmWarning: IProgress not found. Please update jupyter and ipywidgets. See https://ipywidgets.readthedocs.io/en/stable/user_install.html\n",
      "  from .autonotebook import tqdm as notebook_tqdm\n"
     ]
    }
   ],
   "source": [
    "from scripts import eng_processor\n",
    "from scripts.text_preprocessing import TextImageDataset\n",
    "from scripts.train_model import BertEncoder, Generator, Discriminator\n",
    "from scripts.inference import generate_image_from_text\n",
    "from scripts.utils import combine_dataset, Evaluator\n",
    "\n",
    "from torchvision import transforms\n",
    "from sklearn.model_selection import train_test_split\n",
    "import torch\n",
    "from torch.utils.data import DataLoader\n",
    "import torch.nn as nn\n",
    "import torch.optim as optim\n",
    "from PIL import Image\n",
    "from tqdm import tqdm\n",
    "import matplotlib.pyplot as plt\n",
    "from pycocotools.coco import COCO\n",
    "import os\n",
    "from collections import defaultdict\n",
    "import pandas as pd"
   ]
  },
  {
   "cell_type": "code",
   "execution_count": 2,
   "id": "3429d3d6-727d-4d47-9cf7-f63e82b78f1c",
   "metadata": {},
   "outputs": [
    {
     "name": "stdout",
     "output_type": "stream",
     "text": [
      "mps\n"
     ]
    }
   ],
   "source": [
    "# checking for mac gpu which should print mps\n",
    "if torch.backends.mps.is_available():\n",
    "    device = torch.device(\"mps\")  # Apple Metal GPU\n",
    "elif torch.cçuda.is_available():\n",
    "    device = torch.device(\"cuda\")\n",
    "else:\n",
    "    device = torch.device(\"cpu\")\n",
    "\n",
    "print(device)"
   ]
  },
  {
   "cell_type": "markdown",
   "id": "6bdc66f8-4c7b-47a5-bc3a-8edccb3c575f",
   "metadata": {},
   "source": [
    "### Text preprocessing"
   ]
  },
  {
   "cell_type": "code",
   "execution_count": 3,
   "id": "7bc04edb-32f2-4d3e-9ba5-e1f5fdab796b",
   "metadata": {},
   "outputs": [
    {
     "name": "stdout",
     "output_type": "stream",
     "text": [
      "loading annotations into memory...\n",
      "Done (t=0.33s)\n",
      "creating index...\n",
      "index created!\n",
      "✅ Combined dataset saved with 90488 entries (COCO capped at 10000)\n"
     ]
    }
   ],
   "source": [
    "combine_dataset()"
   ]
  },
  {
   "cell_type": "code",
   "execution_count": 4,
   "id": "c0129520-563b-470b-b7cb-f42c5f249e20",
   "metadata": {
    "scrolled": true
   },
   "outputs": [
    {
     "data": {
      "text/html": [
       "<div>\n",
       "<style scoped>\n",
       "    .dataframe tbody tr th:only-of-type {\n",
       "        vertical-align: middle;\n",
       "    }\n",
       "\n",
       "    .dataframe tbody tr th {\n",
       "        vertical-align: top;\n",
       "    }\n",
       "\n",
       "    .dataframe thead th {\n",
       "        text-align: right;\n",
       "    }\n",
       "</style>\n",
       "<table border=\"1\" class=\"dataframe\">\n",
       "  <thead>\n",
       "    <tr style=\"text-align: right;\">\n",
       "      <th></th>\n",
       "      <th>image_path</th>\n",
       "      <th>caption</th>\n",
       "      <th>source</th>\n",
       "    </tr>\n",
       "  </thead>\n",
       "  <tbody>\n",
       "    <tr>\n",
       "      <th>90483</th>\n",
       "      <td>datasets/coco_dataset/train2017/000000370808.jpg</td>\n",
       "      <td>A black cat looking out the window at a black ...</td>\n",
       "      <td>MSCOCO</td>\n",
       "    </tr>\n",
       "    <tr>\n",
       "      <th>90484</th>\n",
       "      <td>datasets/coco_dataset/train2017/000000370808.jpg</td>\n",
       "      <td>Black cat sitting on window ledge looking outs...</td>\n",
       "      <td>MSCOCO</td>\n",
       "    </tr>\n",
       "    <tr>\n",
       "      <th>90485</th>\n",
       "      <td>datasets/coco_dataset/train2017/000000370808.jpg</td>\n",
       "      <td>A black cat looks out the window as a crow out...</td>\n",
       "      <td>MSCOCO</td>\n",
       "    </tr>\n",
       "    <tr>\n",
       "      <th>90486</th>\n",
       "      <td>datasets/coco_dataset/train2017/000000370808.jpg</td>\n",
       "      <td>A cat by a window with a small bird outside.</td>\n",
       "      <td>MSCOCO</td>\n",
       "    </tr>\n",
       "    <tr>\n",
       "      <th>90487</th>\n",
       "      <td>datasets/coco_dataset/train2017/000000370808.jpg</td>\n",
       "      <td>A cat watches a bird through a window.</td>\n",
       "      <td>MSCOCO</td>\n",
       "    </tr>\n",
       "  </tbody>\n",
       "</table>\n",
       "</div>"
      ],
      "text/plain": [
       "                                             image_path  \\\n",
       "90483  datasets/coco_dataset/train2017/000000370808.jpg   \n",
       "90484  datasets/coco_dataset/train2017/000000370808.jpg   \n",
       "90485  datasets/coco_dataset/train2017/000000370808.jpg   \n",
       "90486  datasets/coco_dataset/train2017/000000370808.jpg   \n",
       "90487  datasets/coco_dataset/train2017/000000370808.jpg   \n",
       "\n",
       "                                                 caption  source  \n",
       "90483  A black cat looking out the window at a black ...  MSCOCO  \n",
       "90484  Black cat sitting on window ledge looking outs...  MSCOCO  \n",
       "90485  A black cat looks out the window as a crow out...  MSCOCO  \n",
       "90486       A cat by a window with a small bird outside.  MSCOCO  \n",
       "90487             A cat watches a bird through a window.  MSCOCO  "
      ]
     },
     "execution_count": 4,
     "metadata": {},
     "output_type": "execute_result"
    }
   ],
   "source": [
    "combined_df = pd.read_csv(\"datasets/combined_dataset.csv\")\n",
    "combined_df.tail(5)"
   ]
  },
  {
   "cell_type": "code",
   "execution_count": 5,
   "id": "34fe39c4-95fd-4f99-8411-73aee5559dc0",
   "metadata": {},
   "outputs": [],
   "source": [
    "# def load_text_annotations(text):\n",
    "\n",
    "#     mapp = {}\n",
    "    \n",
    "#     for line in text.split(\"\\n\"):\n",
    "\n",
    "#         token = line.split(\"\\t\")\n",
    "\n",
    "#         if len(line) < 3:\n",
    "#             continue\n",
    "\n",
    "#         # image id \n",
    "#         img_id = token[0].split('.')[0]\n",
    "#         # image description\n",
    "#         img_des = token[1] \n",
    "\n",
    "#         if img_id not in mapp: \n",
    "#             mapp[img_id] = list() \n",
    "#         mapp[img_id].append(img_des)\n",
    "\n",
    "#     return mapp"
   ]
  },
  {
   "cell_type": "code",
   "execution_count": 6,
   "id": "294e04b7-e87c-4164-990d-00847fda5840",
   "metadata": {},
   "outputs": [],
   "source": [
    "# image_to_text_map = load_text_annotations(text_annot)"
   ]
  },
  {
   "cell_type": "code",
   "execution_count": 7,
   "id": "61d29336-617e-4208-9115-3c417d473b1b",
   "metadata": {},
   "outputs": [],
   "source": [
    "# image_to_text_map[\"2097420505_439f63c863\"]"
   ]
  },
  {
   "cell_type": "code",
   "execution_count": 8,
   "id": "018c4248-87cf-4baa-a610-77ad95f96902",
   "metadata": {},
   "outputs": [],
   "source": [
    "# import nltk\n",
    "# import ssl\n",
    "\n",
    "# try:\n",
    "#     _create_unverified_https_context = ssl._create_unverified_context\n",
    "# except AttributeError:\n",
    "#     pass\n",
    "# else:\n",
    "#     ssl._create_default_https_context = _create_unverified_https_context\n",
    "\n",
    "# nltk.download('stopwords')  "
   ]
  },
  {
   "cell_type": "code",
   "execution_count": 9,
   "id": "68396d7b-4b5c-44f8-b5b8-f3009854a46b",
   "metadata": {},
   "outputs": [],
   "source": [
    "image_to_captions = defaultdict(list)\n",
    "\n",
    "for _, row in combined_df.iterrows():\n",
    "    img_path = row['image_path']\n",
    "    image_to_captions[img_path].append(row['caption'])"
   ]
  },
  {
   "cell_type": "code",
   "execution_count": 10,
   "id": "8ba48f96-e8a6-4a32-a286-5a83b4bfe5ae",
   "metadata": {},
   "outputs": [],
   "source": [
    "image_paths = list(image_to_captions.keys())\n",
    "train_ids, test_ids = train_test_split(image_paths, test_size=0.2, random_state=42)\n"
   ]
  },
  {
   "cell_type": "code",
   "execution_count": 11,
   "id": "5bc1cd37-a81f-488e-9a6a-7579835d5745",
   "metadata": {},
   "outputs": [
    {
     "name": "stdout",
     "output_type": "stream",
     "text": [
      "Train samples: 14473\n",
      "Test samples: 3619\n"
     ]
    }
   ],
   "source": [
    "print(f\"Train samples: {len(train_ids)}\")\n",
    "print(f\"Test samples: {len(test_ids)}\")\n"
   ]
  },
  {
   "cell_type": "markdown",
   "id": "14f7968d-8e0b-4aab-9adc-0d6b24cdb4b9",
   "metadata": {},
   "source": [
    "\n",
    "\n",
    "### create dataloader"
   ]
  },
  {
   "cell_type": "code",
   "execution_count": 12,
   "id": "c5ffad40-d82c-4c52-872e-c1e875ea824a",
   "metadata": {},
   "outputs": [
    {
     "name": "stdout",
     "output_type": "stream",
     "text": [
      "Dataset size: 72388 (all captions included)\n",
      "Dataset size: 18095 (all captions included)\n"
     ]
    }
   ],
   "source": [
    "# image transform\n",
    "transform = transforms.Compose([\n",
    "    transforms.Resize((256, 256)),  # Resize the image\n",
    "    transforms.ToTensor(),  # Convert PIL Image to tensor\n",
    "    transforms.Lambda(lambda x: (x * 2) - 1)  # Scale from [0,1] to [-1,1]\n",
    "])\n",
    "\n",
    "\n",
    "train_dataset = TextImageDataset(\n",
    "    image_to_captions=image_to_captions,\n",
    "    image_paths=train_ids,  \n",
    "    transform=transform\n",
    ")\n",
    "\n",
    "test_dataset = TextImageDataset(\n",
    "    image_to_captions=image_to_captions,\n",
    "    image_paths=test_ids,  \n",
    "    transform=transform\n",
    ")\n",
    "\n",
    "# Create dataloaders\n",
    "train_loader = DataLoader(train_dataset, batch_size=32, shuffle=True)\n",
    "test_loader = DataLoader(test_dataset, batch_size=32, shuffle=False)"
   ]
  },
  {
   "cell_type": "markdown",
   "id": "2640371b-18ab-4978-a010-397347a84d02",
   "metadata": {},
   "source": [
    "## Train model"
   ]
  },
  {
   "cell_type": "code",
   "execution_count": 13,
   "id": "b7319577-1405-497a-bdce-c0817ccfb0f9",
   "metadata": {},
   "outputs": [],
   "source": [
    "# initialize encoder decoder and discriminator\n",
    "\n",
    "text_encoder =  BertEncoder().to(device)\n",
    "generator =  Generator().to(device)\n",
    "discriminator = Discriminator().to(device)"
   ]
  },
  {
   "cell_type": "code",
   "execution_count": 14,
   "id": "01d4dc7b-2fa7-4204-a2a9-8ab822f75aac",
   "metadata": {},
   "outputs": [],
   "source": [
    "# !pip install 'torchmetrics[image]' git+https://github.com/openai/CLIP.git"
   ]
  },
  {
   "cell_type": "markdown",
   "id": "4718277e-3719-4ee4-939c-f065b7e534c8",
   "metadata": {},
   "source": [
    "#### Initialize optimizers"
   ]
  },
  {
   "cell_type": "code",
   "execution_count": 15,
   "id": "c423713e-d793-4b38-9e06-11a5484f47e2",
   "metadata": {},
   "outputs": [
    {
     "name": "stderr",
     "output_type": "stream",
     "text": [
      "/opt/anaconda3/envs/intro_dl/lib/python3.12/site-packages/torchmetrics/utilities/prints.py:43: UserWarning: Metric `InceptionScore` will save all extracted features in buffer. For large datasets this may lead to large memory footprint.\n",
      "  warnings.warn(*args, **kwargs)\n",
      "Using a slow image processor as `use_fast` is unset and a slow processor was saved with this model. `use_fast=True` will be the default behavior in v4.52, even if the model was saved with a slow processor. This will result in minor differences in outputs. You'll still be able to use a slow processor with `use_fast=False`.\n"
     ]
    }
   ],
   "source": [
    "adv_loss = nn.BCELoss()\n",
    "\n",
    "# optimizer for generator\n",
    "optimizer_G = optim.Adam(\n",
    "    list(generator.parameters()) + list(text_encoder.parameters()),\n",
    "    lr=0.0002, betas=(0.5, 0.999)\n",
    ")\n",
    "\n",
    "\n",
    "# optimizer for discriminator\n",
    "\n",
    "optimizer_D = optim.Adam(discriminator.parameters(), lr=0.0001, betas=(0.5, 0.999))\n",
    "\n",
    "evaluator = Evaluator(device)"
   ]
  },
  {
   "cell_type": "code",
   "execution_count": 16,
   "id": "cb9f793d-aa76-4fc5-a19d-f64c187c2105",
   "metadata": {
    "scrolled": true
   },
   "outputs": [
    {
     "name": "stderr",
     "output_type": "stream",
     "text": [
      "Training Epoch 1:   0%|                        | 1/2263 [00:01<41:40,  1.11s/it]"
     ]
    },
    {
     "name": "stdout",
     "output_type": "stream",
     "text": [
      "[Batch 0/2263] [D loss: 0.6720] [G loss: 0.6801]\n"
     ]
    },
    {
     "name": "stderr",
     "output_type": "stream",
     "text": [
      "Training Epoch 1:   4%|▉                     | 101/2263 [01:02<25:37,  1.41it/s]"
     ]
    },
    {
     "name": "stdout",
     "output_type": "stream",
     "text": [
      "[Batch 100/2263] [D loss: 0.2334] [G loss: 8.6559]\n"
     ]
    },
    {
     "name": "stderr",
     "output_type": "stream",
     "text": [
      "Training Epoch 1:   9%|█▉                    | 201/2263 [02:06<24:52,  1.38it/s]"
     ]
    },
    {
     "name": "stdout",
     "output_type": "stream",
     "text": [
      "[Batch 200/2263] [D loss: 1.3556] [G loss: 0.1933]\n"
     ]
    },
    {
     "name": "stderr",
     "output_type": "stream",
     "text": [
      "Training Epoch 1:  13%|██▉                   | 301/2263 [03:09<24:28,  1.34it/s]"
     ]
    },
    {
     "name": "stdout",
     "output_type": "stream",
     "text": [
      "[Batch 300/2263] [D loss: 0.9188] [G loss: 0.2499]\n"
     ]
    },
    {
     "name": "stderr",
     "output_type": "stream",
     "text": [
      "Training Epoch 1:  18%|███▉                  | 401/2263 [04:14<23:35,  1.32it/s]"
     ]
    },
    {
     "name": "stdout",
     "output_type": "stream",
     "text": [
      "[Batch 400/2263] [D loss: 0.1826] [G loss: 10.9192]\n"
     ]
    },
    {
     "name": "stderr",
     "output_type": "stream",
     "text": [
      "Training Epoch 1:  22%|████▊                 | 501/2263 [05:19<21:32,  1.36it/s]"
     ]
    },
    {
     "name": "stdout",
     "output_type": "stream",
     "text": [
      "[Batch 500/2263] [D loss: 0.1636] [G loss: 1.6053]\n"
     ]
    },
    {
     "name": "stderr",
     "output_type": "stream",
     "text": [
      "Training Epoch 1:  27%|█████▊                | 601/2263 [06:26<20:42,  1.34it/s]"
     ]
    },
    {
     "name": "stdout",
     "output_type": "stream",
     "text": [
      "[Batch 600/2263] [D loss: 0.3543] [G loss: 0.7909]\n"
     ]
    },
    {
     "name": "stderr",
     "output_type": "stream",
     "text": [
      "Training Epoch 1:  31%|██████▊               | 701/2263 [07:32<20:57,  1.24it/s]"
     ]
    },
    {
     "name": "stdout",
     "output_type": "stream",
     "text": [
      "[Batch 700/2263] [D loss: 0.3797] [G loss: 0.8618]\n"
     ]
    },
    {
     "name": "stderr",
     "output_type": "stream",
     "text": [
      "Training Epoch 1:  35%|███████▊              | 801/2263 [08:38<18:28,  1.32it/s]"
     ]
    },
    {
     "name": "stdout",
     "output_type": "stream",
     "text": [
      "[Batch 800/2263] [D loss: 0.0608] [G loss: 3.3573]\n"
     ]
    },
    {
     "name": "stderr",
     "output_type": "stream",
     "text": [
      "Training Epoch 1:  40%|████████▊             | 901/2263 [09:44<16:35,  1.37it/s]"
     ]
    },
    {
     "name": "stdout",
     "output_type": "stream",
     "text": [
      "[Batch 900/2263] [D loss: 0.9423] [G loss: 0.2113]\n"
     ]
    },
    {
     "name": "stderr",
     "output_type": "stream",
     "text": [
      "Training Epoch 1:  44%|█████████▎           | 1001/2263 [10:48<15:29,  1.36it/s]"
     ]
    },
    {
     "name": "stdout",
     "output_type": "stream",
     "text": [
      "[Batch 1000/2263] [D loss: 0.0172] [G loss: 5.7241]\n"
     ]
    },
    {
     "name": "stderr",
     "output_type": "stream",
     "text": [
      "Training Epoch 1:  49%|██████████▏          | 1101/2263 [11:53<14:17,  1.35it/s]"
     ]
    },
    {
     "name": "stdout",
     "output_type": "stream",
     "text": [
      "[Batch 1100/2263] [D loss: 1.2446] [G loss: 0.0894]\n"
     ]
    },
    {
     "name": "stderr",
     "output_type": "stream",
     "text": [
      "Training Epoch 1:  53%|███████████▏         | 1201/2263 [12:57<13:09,  1.34it/s]"
     ]
    },
    {
     "name": "stdout",
     "output_type": "stream",
     "text": [
      "[Batch 1200/2263] [D loss: 0.0046] [G loss: 5.9019]\n"
     ]
    },
    {
     "name": "stderr",
     "output_type": "stream",
     "text": [
      "Training Epoch 1:  57%|████████████         | 1301/2263 [14:02<11:51,  1.35it/s]"
     ]
    },
    {
     "name": "stdout",
     "output_type": "stream",
     "text": [
      "[Batch 1300/2263] [D loss: 0.0030] [G loss: 5.7304]\n"
     ]
    },
    {
     "name": "stderr",
     "output_type": "stream",
     "text": [
      "Training Epoch 1:  62%|█████████████        | 1401/2263 [15:07<10:37,  1.35it/s]"
     ]
    },
    {
     "name": "stdout",
     "output_type": "stream",
     "text": [
      "[Batch 1400/2263] [D loss: 0.0006] [G loss: 7.9294]\n"
     ]
    },
    {
     "name": "stderr",
     "output_type": "stream",
     "text": [
      "Training Epoch 1:  66%|█████████████▉       | 1501/2263 [16:11<09:19,  1.36it/s]"
     ]
    },
    {
     "name": "stdout",
     "output_type": "stream",
     "text": [
      "[Batch 1500/2263] [D loss: 0.0215] [G loss: 3.5025]\n"
     ]
    },
    {
     "name": "stderr",
     "output_type": "stream",
     "text": [
      "Training Epoch 1:  71%|██████████████▊      | 1601/2263 [17:16<08:16,  1.33it/s]"
     ]
    },
    {
     "name": "stdout",
     "output_type": "stream",
     "text": [
      "[Batch 1600/2263] [D loss: 0.0024] [G loss: 5.6800]\n"
     ]
    },
    {
     "name": "stderr",
     "output_type": "stream",
     "text": [
      "Training Epoch 1:  75%|███████████████▊     | 1701/2263 [18:21<06:57,  1.35it/s]"
     ]
    },
    {
     "name": "stdout",
     "output_type": "stream",
     "text": [
      "[Batch 1700/2263] [D loss: 0.0007] [G loss: 6.9619]\n"
     ]
    },
    {
     "name": "stderr",
     "output_type": "stream",
     "text": [
      "Training Epoch 1:  80%|████████████████▋    | 1801/2263 [19:26<05:43,  1.35it/s]"
     ]
    },
    {
     "name": "stdout",
     "output_type": "stream",
     "text": [
      "[Batch 1800/2263] [D loss: 0.0012] [G loss: 6.8887]\n"
     ]
    },
    {
     "name": "stderr",
     "output_type": "stream",
     "text": [
      "Training Epoch 1:  84%|█████████████████▋   | 1901/2263 [20:31<04:30,  1.34it/s]"
     ]
    },
    {
     "name": "stdout",
     "output_type": "stream",
     "text": [
      "[Batch 1900/2263] [D loss: 0.0093] [G loss: 4.7685]\n"
     ]
    },
    {
     "name": "stderr",
     "output_type": "stream",
     "text": [
      "Training Epoch 1:  88%|██████████████████▌  | 2001/2263 [21:36<03:15,  1.34it/s]"
     ]
    },
    {
     "name": "stdout",
     "output_type": "stream",
     "text": [
      "[Batch 2000/2263] [D loss: 0.0096] [G loss: 6.1260]\n"
     ]
    },
    {
     "name": "stderr",
     "output_type": "stream",
     "text": [
      "Training Epoch 1:  93%|███████████████████▍ | 2101/2263 [22:41<02:00,  1.34it/s]"
     ]
    },
    {
     "name": "stdout",
     "output_type": "stream",
     "text": [
      "[Batch 2100/2263] [D loss: 0.0007] [G loss: 6.9328]\n"
     ]
    },
    {
     "name": "stderr",
     "output_type": "stream",
     "text": [
      "Training Epoch 1:  97%|████████████████████▍| 2201/2263 [23:47<00:46,  1.34it/s]"
     ]
    },
    {
     "name": "stdout",
     "output_type": "stream",
     "text": [
      "[Batch 2200/2263] [D loss: 0.0004] [G loss: 7.5444]\n"
     ]
    },
    {
     "name": "stderr",
     "output_type": "stream",
     "text": [
      "Training Epoch 1: 100%|█████████████████████| 2263/2263 [24:28<00:00,  1.54it/s]\n"
     ]
    },
    {
     "name": "stdout",
     "output_type": "stream",
     "text": [
      "Epoch 1/50\n",
      "FID: 411.77\n",
      "Inception Score: 1.01\n",
      "CLIP Score: 18.55\n",
      "---------------------\n"
     ]
    },
    {
     "name": "stderr",
     "output_type": "stream",
     "text": [
      "Training Epoch 2:   0%|                        | 1/2263 [00:00<29:00,  1.30it/s]"
     ]
    },
    {
     "name": "stdout",
     "output_type": "stream",
     "text": [
      "[Batch 0/2263] [D loss: 0.0002] [G loss: 8.0945]\n"
     ]
    },
    {
     "name": "stderr",
     "output_type": "stream",
     "text": [
      "Training Epoch 2:   4%|▉                     | 101/2263 [01:02<26:26,  1.36it/s]"
     ]
    },
    {
     "name": "stdout",
     "output_type": "stream",
     "text": [
      "[Batch 100/2263] [D loss: 0.0002] [G loss: 8.2806]\n"
     ]
    },
    {
     "name": "stderr",
     "output_type": "stream",
     "text": [
      "Training Epoch 2:   9%|█▉                    | 201/2263 [02:06<24:59,  1.38it/s]"
     ]
    },
    {
     "name": "stdout",
     "output_type": "stream",
     "text": [
      "[Batch 200/2263] [D loss: 0.0001] [G loss: 8.8473]\n"
     ]
    },
    {
     "name": "stderr",
     "output_type": "stream",
     "text": [
      "Training Epoch 2:  13%|██▉                   | 301/2263 [03:10<24:27,  1.34it/s]"
     ]
    },
    {
     "name": "stdout",
     "output_type": "stream",
     "text": [
      "[Batch 300/2263] [D loss: 0.0002] [G loss: 8.8112]\n"
     ]
    },
    {
     "name": "stderr",
     "output_type": "stream",
     "text": [
      "Training Epoch 2:  18%|███▉                  | 401/2263 [04:16<23:37,  1.31it/s]"
     ]
    },
    {
     "name": "stdout",
     "output_type": "stream",
     "text": [
      "[Batch 400/2263] [D loss: 0.0002] [G loss: 8.2800]\n"
     ]
    },
    {
     "name": "stderr",
     "output_type": "stream",
     "text": [
      "Training Epoch 2:  22%|████▊                 | 501/2263 [05:23<22:17,  1.32it/s]"
     ]
    },
    {
     "name": "stdout",
     "output_type": "stream",
     "text": [
      "[Batch 500/2263] [D loss: 0.0001] [G loss: 8.6766]\n"
     ]
    },
    {
     "name": "stderr",
     "output_type": "stream",
     "text": [
      "Training Epoch 2:  27%|█████▊                | 601/2263 [06:29<20:39,  1.34it/s]"
     ]
    },
    {
     "name": "stdout",
     "output_type": "stream",
     "text": [
      "[Batch 600/2263] [D loss: 0.0001] [G loss: 9.1901]\n"
     ]
    },
    {
     "name": "stderr",
     "output_type": "stream",
     "text": [
      "Training Epoch 2:  31%|██████▊               | 701/2263 [07:34<19:23,  1.34it/s]"
     ]
    },
    {
     "name": "stdout",
     "output_type": "stream",
     "text": [
      "[Batch 700/2263] [D loss: 0.0000] [G loss: 9.5574]\n"
     ]
    },
    {
     "name": "stderr",
     "output_type": "stream",
     "text": [
      "Training Epoch 2:  35%|███████▊              | 801/2263 [08:38<18:02,  1.35it/s]"
     ]
    },
    {
     "name": "stdout",
     "output_type": "stream",
     "text": [
      "[Batch 800/2263] [D loss: 0.0001] [G loss: 9.4305]\n"
     ]
    },
    {
     "name": "stderr",
     "output_type": "stream",
     "text": [
      "Training Epoch 2:  40%|████████▊             | 901/2263 [09:43<16:48,  1.35it/s]"
     ]
    },
    {
     "name": "stdout",
     "output_type": "stream",
     "text": [
      "[Batch 900/2263] [D loss: 0.0001] [G loss: 9.4315]\n"
     ]
    },
    {
     "name": "stderr",
     "output_type": "stream",
     "text": [
      "Training Epoch 2:  44%|█████████▎           | 1001/2263 [10:48<15:35,  1.35it/s]"
     ]
    },
    {
     "name": "stdout",
     "output_type": "stream",
     "text": [
      "[Batch 1000/2263] [D loss: 0.0000] [G loss: 9.9211]\n"
     ]
    },
    {
     "name": "stderr",
     "output_type": "stream",
     "text": [
      "Training Epoch 2:  49%|██████████▏          | 1101/2263 [11:52<14:23,  1.35it/s]"
     ]
    },
    {
     "name": "stdout",
     "output_type": "stream",
     "text": [
      "[Batch 1100/2263] [D loss: 0.0001] [G loss: 8.9331]\n"
     ]
    },
    {
     "name": "stderr",
     "output_type": "stream",
     "text": [
      "Training Epoch 2:  53%|███████████▏         | 1201/2263 [12:57<13:09,  1.34it/s]"
     ]
    },
    {
     "name": "stdout",
     "output_type": "stream",
     "text": [
      "[Batch 1200/2263] [D loss: 0.0000] [G loss: 10.0378]\n"
     ]
    },
    {
     "name": "stderr",
     "output_type": "stream",
     "text": [
      "Training Epoch 2:  57%|████████████         | 1301/2263 [14:02<11:50,  1.35it/s]"
     ]
    },
    {
     "name": "stdout",
     "output_type": "stream",
     "text": [
      "[Batch 1300/2263] [D loss: 0.0000] [G loss: 10.3537]\n"
     ]
    },
    {
     "name": "stderr",
     "output_type": "stream",
     "text": [
      "Training Epoch 2:  62%|█████████████        | 1401/2263 [15:07<10:39,  1.35it/s]"
     ]
    },
    {
     "name": "stdout",
     "output_type": "stream",
     "text": [
      "[Batch 1400/2263] [D loss: 0.0000] [G loss: 10.4543]\n"
     ]
    },
    {
     "name": "stderr",
     "output_type": "stream",
     "text": [
      "Training Epoch 2:  66%|█████████████▉       | 1501/2263 [16:12<09:24,  1.35it/s]"
     ]
    },
    {
     "name": "stdout",
     "output_type": "stream",
     "text": [
      "[Batch 1500/2263] [D loss: 0.0000] [G loss: 10.4077]\n"
     ]
    },
    {
     "name": "stderr",
     "output_type": "stream",
     "text": [
      "Training Epoch 2:  71%|██████████████▊      | 1601/2263 [17:16<08:14,  1.34it/s]"
     ]
    },
    {
     "name": "stdout",
     "output_type": "stream",
     "text": [
      "[Batch 1600/2263] [D loss: 0.0000] [G loss: 10.3626]\n"
     ]
    },
    {
     "name": "stderr",
     "output_type": "stream",
     "text": [
      "Training Epoch 2:  75%|███████████████▊     | 1701/2263 [18:21<06:54,  1.36it/s]"
     ]
    },
    {
     "name": "stdout",
     "output_type": "stream",
     "text": [
      "[Batch 1700/2263] [D loss: 0.0000] [G loss: 10.7313]\n"
     ]
    },
    {
     "name": "stderr",
     "output_type": "stream",
     "text": [
      "Training Epoch 2:  80%|████████████████▋    | 1801/2263 [19:26<05:41,  1.35it/s]"
     ]
    },
    {
     "name": "stdout",
     "output_type": "stream",
     "text": [
      "[Batch 1800/2263] [D loss: 0.0000] [G loss: 9.7618]\n"
     ]
    },
    {
     "name": "stderr",
     "output_type": "stream",
     "text": [
      "Training Epoch 2:  84%|█████████████████▋   | 1901/2263 [20:30<04:28,  1.35it/s]"
     ]
    },
    {
     "name": "stdout",
     "output_type": "stream",
     "text": [
      "[Batch 1900/2263] [D loss: 0.0000] [G loss: 10.5331]\n"
     ]
    },
    {
     "name": "stderr",
     "output_type": "stream",
     "text": [
      "Training Epoch 2:  88%|██████████████████▌  | 2001/2263 [21:36<03:21,  1.30it/s]"
     ]
    },
    {
     "name": "stdout",
     "output_type": "stream",
     "text": [
      "[Batch 2000/2263] [D loss: 0.0000] [G loss: 10.4265]\n"
     ]
    },
    {
     "name": "stderr",
     "output_type": "stream",
     "text": [
      "Training Epoch 2:  93%|███████████████████▍ | 2101/2263 [22:43<02:03,  1.31it/s]"
     ]
    },
    {
     "name": "stdout",
     "output_type": "stream",
     "text": [
      "[Batch 2100/2263] [D loss: 0.0000] [G loss: 10.6871]\n"
     ]
    },
    {
     "name": "stderr",
     "output_type": "stream",
     "text": [
      "Training Epoch 2:  97%|████████████████████▍| 2201/2263 [23:49<00:47,  1.32it/s]"
     ]
    },
    {
     "name": "stdout",
     "output_type": "stream",
     "text": [
      "[Batch 2200/2263] [D loss: 0.0000] [G loss: 10.8199]\n"
     ]
    },
    {
     "name": "stderr",
     "output_type": "stream",
     "text": [
      "Training Epoch 2: 100%|█████████████████████| 2263/2263 [24:30<00:00,  1.54it/s]\n"
     ]
    },
    {
     "name": "stdout",
     "output_type": "stream",
     "text": [
      "Epoch 2/50\n",
      "FID: 447.88\n",
      "Inception Score: 1.00\n",
      "CLIP Score: 18.25\n",
      "---------------------\n"
     ]
    },
    {
     "name": "stderr",
     "output_type": "stream",
     "text": [
      "Training Epoch 3:   0%|                        | 1/2263 [00:00<29:11,  1.29it/s]"
     ]
    },
    {
     "name": "stdout",
     "output_type": "stream",
     "text": [
      "[Batch 0/2263] [D loss: 0.0000] [G loss: 10.6868]\n"
     ]
    },
    {
     "name": "stderr",
     "output_type": "stream",
     "text": [
      "Training Epoch 3:   4%|▉                     | 101/2263 [01:03<26:28,  1.36it/s]"
     ]
    },
    {
     "name": "stdout",
     "output_type": "stream",
     "text": [
      "[Batch 100/2263] [D loss: 0.0000] [G loss: 11.0634]\n"
     ]
    },
    {
     "name": "stderr",
     "output_type": "stream",
     "text": [
      "Training Epoch 3:   9%|█▉                    | 201/2263 [02:07<25:13,  1.36it/s]"
     ]
    },
    {
     "name": "stdout",
     "output_type": "stream",
     "text": [
      "[Batch 200/2263] [D loss: 0.0000] [G loss: 10.9377]\n"
     ]
    },
    {
     "name": "stderr",
     "output_type": "stream",
     "text": [
      "Training Epoch 3:  13%|██▉                   | 301/2263 [03:12<24:44,  1.32it/s]"
     ]
    },
    {
     "name": "stdout",
     "output_type": "stream",
     "text": [
      "[Batch 300/2263] [D loss: 0.0000] [G loss: 11.0801]\n"
     ]
    },
    {
     "name": "stderr",
     "output_type": "stream",
     "text": [
      "Training Epoch 3:  18%|███▉                  | 401/2263 [04:18<23:46,  1.31it/s]"
     ]
    },
    {
     "name": "stdout",
     "output_type": "stream",
     "text": [
      "[Batch 400/2263] [D loss: 0.0000] [G loss: 10.9104]\n"
     ]
    },
    {
     "name": "stderr",
     "output_type": "stream",
     "text": [
      "Training Epoch 3:  22%|████▊                 | 501/2263 [05:25<22:27,  1.31it/s]"
     ]
    },
    {
     "name": "stdout",
     "output_type": "stream",
     "text": [
      "[Batch 500/2263] [D loss: 0.0000] [G loss: 11.4706]\n"
     ]
    },
    {
     "name": "stderr",
     "output_type": "stream",
     "text": [
      "Training Epoch 3:  27%|█████▊                | 601/2263 [06:31<20:47,  1.33it/s]"
     ]
    },
    {
     "name": "stdout",
     "output_type": "stream",
     "text": [
      "[Batch 600/2263] [D loss: 0.0000] [G loss: 11.5471]\n"
     ]
    },
    {
     "name": "stderr",
     "output_type": "stream",
     "text": [
      "Training Epoch 3:  31%|██████▊               | 701/2263 [07:36<19:19,  1.35it/s]"
     ]
    },
    {
     "name": "stdout",
     "output_type": "stream",
     "text": [
      "[Batch 700/2263] [D loss: 0.0000] [G loss: 11.6772]\n"
     ]
    },
    {
     "name": "stderr",
     "output_type": "stream",
     "text": [
      "Training Epoch 3:  35%|███████▊              | 801/2263 [08:41<18:06,  1.35it/s]"
     ]
    },
    {
     "name": "stdout",
     "output_type": "stream",
     "text": [
      "[Batch 800/2263] [D loss: 0.0000] [G loss: 11.9468]\n"
     ]
    },
    {
     "name": "stderr",
     "output_type": "stream",
     "text": [
      "Training Epoch 3:  40%|████████▊             | 901/2263 [09:45<16:44,  1.36it/s]"
     ]
    },
    {
     "name": "stdout",
     "output_type": "stream",
     "text": [
      "[Batch 900/2263] [D loss: 0.0000] [G loss: 12.0348]\n"
     ]
    },
    {
     "name": "stderr",
     "output_type": "stream",
     "text": [
      "Training Epoch 3:  44%|█████████▎           | 1001/2263 [10:49<15:38,  1.35it/s]"
     ]
    },
    {
     "name": "stdout",
     "output_type": "stream",
     "text": [
      "[Batch 1000/2263] [D loss: 0.0000] [G loss: 12.1260]\n"
     ]
    },
    {
     "name": "stderr",
     "output_type": "stream",
     "text": [
      "Training Epoch 3:  49%|██████████▏          | 1101/2263 [11:55<14:31,  1.33it/s]"
     ]
    },
    {
     "name": "stdout",
     "output_type": "stream",
     "text": [
      "[Batch 1100/2263] [D loss: 0.0000] [G loss: 12.2530]\n"
     ]
    },
    {
     "name": "stderr",
     "output_type": "stream",
     "text": [
      "Training Epoch 3:  53%|███████████▏         | 1201/2263 [13:00<13:20,  1.33it/s]"
     ]
    },
    {
     "name": "stdout",
     "output_type": "stream",
     "text": [
      "[Batch 1200/2263] [D loss: 0.0000] [G loss: 12.1319]\n"
     ]
    },
    {
     "name": "stderr",
     "output_type": "stream",
     "text": [
      "Training Epoch 3:  57%|████████████         | 1301/2263 [14:06<12:03,  1.33it/s]"
     ]
    },
    {
     "name": "stdout",
     "output_type": "stream",
     "text": [
      "[Batch 1300/2263] [D loss: 0.0000] [G loss: 12.3981]\n"
     ]
    },
    {
     "name": "stderr",
     "output_type": "stream",
     "text": [
      "Training Epoch 3:  62%|█████████████        | 1401/2263 [15:12<10:49,  1.33it/s]"
     ]
    },
    {
     "name": "stdout",
     "output_type": "stream",
     "text": [
      "[Batch 1400/2263] [D loss: 0.0000] [G loss: 12.3454]\n"
     ]
    },
    {
     "name": "stderr",
     "output_type": "stream",
     "text": [
      "Training Epoch 3:  66%|█████████████▉       | 1501/2263 [16:17<09:30,  1.34it/s]"
     ]
    },
    {
     "name": "stdout",
     "output_type": "stream",
     "text": [
      "[Batch 1500/2263] [D loss: 0.0000] [G loss: 12.4248]\n"
     ]
    },
    {
     "name": "stderr",
     "output_type": "stream",
     "text": [
      "Training Epoch 3:  71%|██████████████▊      | 1601/2263 [17:24<08:23,  1.31it/s]"
     ]
    },
    {
     "name": "stdout",
     "output_type": "stream",
     "text": [
      "[Batch 1600/2263] [D loss: 0.0000] [G loss: 12.6166]\n"
     ]
    },
    {
     "name": "stderr",
     "output_type": "stream",
     "text": [
      "Training Epoch 3:  75%|███████████████▊     | 1701/2263 [18:30<07:08,  1.31it/s]"
     ]
    },
    {
     "name": "stdout",
     "output_type": "stream",
     "text": [
      "[Batch 1700/2263] [D loss: 0.0000] [G loss: 12.5433]\n"
     ]
    },
    {
     "name": "stderr",
     "output_type": "stream",
     "text": [
      "Training Epoch 3:  80%|████████████████▋    | 1801/2263 [19:37<05:52,  1.31it/s]"
     ]
    },
    {
     "name": "stdout",
     "output_type": "stream",
     "text": [
      "[Batch 1800/2263] [D loss: 0.0000] [G loss: 12.8731]\n"
     ]
    },
    {
     "name": "stderr",
     "output_type": "stream",
     "text": [
      "Training Epoch 3:  84%|█████████████████▋   | 1901/2263 [20:43<04:36,  1.31it/s]"
     ]
    },
    {
     "name": "stdout",
     "output_type": "stream",
     "text": [
      "[Batch 1900/2263] [D loss: 0.0000] [G loss: 12.8552]\n"
     ]
    },
    {
     "name": "stderr",
     "output_type": "stream",
     "text": [
      "Training Epoch 3:  88%|██████████████████▌  | 2001/2263 [21:50<03:20,  1.31it/s]"
     ]
    },
    {
     "name": "stdout",
     "output_type": "stream",
     "text": [
      "[Batch 2000/2263] [D loss: 0.0000] [G loss: 13.0573]\n"
     ]
    },
    {
     "name": "stderr",
     "output_type": "stream",
     "text": [
      "Training Epoch 3:  93%|███████████████████▍ | 2101/2263 [22:57<02:03,  1.31it/s]"
     ]
    },
    {
     "name": "stdout",
     "output_type": "stream",
     "text": [
      "[Batch 2100/2263] [D loss: 0.0000] [G loss: 13.0914]\n"
     ]
    },
    {
     "name": "stderr",
     "output_type": "stream",
     "text": [
      "Training Epoch 3:  97%|████████████████████▍| 2201/2263 [24:03<00:47,  1.31it/s]"
     ]
    },
    {
     "name": "stdout",
     "output_type": "stream",
     "text": [
      "[Batch 2200/2263] [D loss: 0.0000] [G loss: 13.3915]\n"
     ]
    },
    {
     "name": "stderr",
     "output_type": "stream",
     "text": [
      "Training Epoch 3: 100%|█████████████████████| 2263/2263 [24:44<00:00,  1.52it/s]\n"
     ]
    },
    {
     "name": "stdout",
     "output_type": "stream",
     "text": [
      "Epoch 3/50\n",
      "FID: 401.28\n",
      "Inception Score: 1.00\n",
      "CLIP Score: 18.16\n",
      "---------------------\n"
     ]
    },
    {
     "name": "stderr",
     "output_type": "stream",
     "text": [
      "Training Epoch 4:   0%|                        | 1/2263 [00:00<29:20,  1.29it/s]"
     ]
    },
    {
     "name": "stdout",
     "output_type": "stream",
     "text": [
      "[Batch 0/2263] [D loss: 0.0000] [G loss: 13.3553]\n"
     ]
    },
    {
     "name": "stderr",
     "output_type": "stream",
     "text": [
      "Training Epoch 4:   4%|▉                     | 101/2263 [01:02<26:12,  1.38it/s]"
     ]
    },
    {
     "name": "stdout",
     "output_type": "stream",
     "text": [
      "[Batch 100/2263] [D loss: 0.0000] [G loss: 13.4166]\n"
     ]
    },
    {
     "name": "stderr",
     "output_type": "stream",
     "text": [
      "Training Epoch 4:   9%|█▉                    | 201/2263 [02:06<25:01,  1.37it/s]"
     ]
    },
    {
     "name": "stdout",
     "output_type": "stream",
     "text": [
      "[Batch 200/2263] [D loss: 0.0000] [G loss: 13.5217]\n"
     ]
    },
    {
     "name": "stderr",
     "output_type": "stream",
     "text": [
      "Training Epoch 4:  13%|██▉                   | 301/2263 [03:10<24:02,  1.36it/s]"
     ]
    },
    {
     "name": "stdout",
     "output_type": "stream",
     "text": [
      "[Batch 300/2263] [D loss: 0.0000] [G loss: 13.7722]\n"
     ]
    },
    {
     "name": "stderr",
     "output_type": "stream",
     "text": [
      "Training Epoch 4:  18%|███▉                  | 401/2263 [04:15<23:17,  1.33it/s]"
     ]
    },
    {
     "name": "stdout",
     "output_type": "stream",
     "text": [
      "[Batch 400/2263] [D loss: 0.0000] [G loss: 13.4528]\n"
     ]
    },
    {
     "name": "stderr",
     "output_type": "stream",
     "text": [
      "Training Epoch 4:  22%|████▊                 | 501/2263 [05:21<22:44,  1.29it/s]"
     ]
    },
    {
     "name": "stdout",
     "output_type": "stream",
     "text": [
      "[Batch 500/2263] [D loss: 0.0000] [G loss: 13.6245]\n"
     ]
    },
    {
     "name": "stderr",
     "output_type": "stream",
     "text": [
      "Training Epoch 4:  27%|█████▊                | 601/2263 [06:27<20:59,  1.32it/s]"
     ]
    },
    {
     "name": "stdout",
     "output_type": "stream",
     "text": [
      "[Batch 600/2263] [D loss: 0.0000] [G loss: 13.7697]\n"
     ]
    },
    {
     "name": "stderr",
     "output_type": "stream",
     "text": [
      "Training Epoch 4:  31%|██████▊               | 701/2263 [07:33<19:33,  1.33it/s]"
     ]
    },
    {
     "name": "stdout",
     "output_type": "stream",
     "text": [
      "[Batch 700/2263] [D loss: 0.0000] [G loss: 13.3096]\n"
     ]
    },
    {
     "name": "stderr",
     "output_type": "stream",
     "text": [
      "Training Epoch 4:  35%|███████▊              | 801/2263 [08:38<18:11,  1.34it/s]"
     ]
    },
    {
     "name": "stdout",
     "output_type": "stream",
     "text": [
      "[Batch 800/2263] [D loss: 0.0000] [G loss: 13.6171]\n"
     ]
    },
    {
     "name": "stderr",
     "output_type": "stream",
     "text": [
      "Training Epoch 4:  40%|████████▊             | 901/2263 [09:44<16:53,  1.34it/s]"
     ]
    },
    {
     "name": "stdout",
     "output_type": "stream",
     "text": [
      "[Batch 900/2263] [D loss: 0.0000] [G loss: 13.8009]\n"
     ]
    },
    {
     "name": "stderr",
     "output_type": "stream",
     "text": [
      "Training Epoch 4:  44%|█████████▎           | 1001/2263 [10:49<15:49,  1.33it/s]"
     ]
    },
    {
     "name": "stdout",
     "output_type": "stream",
     "text": [
      "[Batch 1000/2263] [D loss: 0.0000] [G loss: 14.2972]\n"
     ]
    },
    {
     "name": "stderr",
     "output_type": "stream",
     "text": [
      "Training Epoch 4:  49%|██████████▏          | 1101/2263 [11:54<14:36,  1.33it/s]"
     ]
    },
    {
     "name": "stdout",
     "output_type": "stream",
     "text": [
      "[Batch 1100/2263] [D loss: 0.0000] [G loss: 14.1966]\n"
     ]
    },
    {
     "name": "stderr",
     "output_type": "stream",
     "text": [
      "Training Epoch 4:  53%|███████████▏         | 1201/2263 [13:00<13:22,  1.32it/s]"
     ]
    },
    {
     "name": "stdout",
     "output_type": "stream",
     "text": [
      "[Batch 1200/2263] [D loss: 0.0000] [G loss: 13.8515]\n"
     ]
    },
    {
     "name": "stderr",
     "output_type": "stream",
     "text": [
      "Training Epoch 4:  57%|████████████         | 1301/2263 [14:06<12:07,  1.32it/s]"
     ]
    },
    {
     "name": "stdout",
     "output_type": "stream",
     "text": [
      "[Batch 1300/2263] [D loss: 0.0000] [G loss: 14.2716]\n"
     ]
    },
    {
     "name": "stderr",
     "output_type": "stream",
     "text": [
      "Training Epoch 4:  62%|█████████████        | 1401/2263 [15:12<10:49,  1.33it/s]"
     ]
    },
    {
     "name": "stdout",
     "output_type": "stream",
     "text": [
      "[Batch 1400/2263] [D loss: 0.0000] [G loss: 14.4104]\n"
     ]
    },
    {
     "name": "stderr",
     "output_type": "stream",
     "text": [
      "Training Epoch 4:  66%|█████████████▉       | 1501/2263 [16:18<09:33,  1.33it/s]"
     ]
    },
    {
     "name": "stdout",
     "output_type": "stream",
     "text": [
      "[Batch 1500/2263] [D loss: 0.0000] [G loss: 14.1866]\n"
     ]
    },
    {
     "name": "stderr",
     "output_type": "stream",
     "text": [
      "Training Epoch 4:  71%|██████████████▊      | 1601/2263 [17:24<08:17,  1.33it/s]"
     ]
    },
    {
     "name": "stdout",
     "output_type": "stream",
     "text": [
      "[Batch 1600/2263] [D loss: 0.0000] [G loss: 14.4791]\n"
     ]
    },
    {
     "name": "stderr",
     "output_type": "stream",
     "text": [
      "Training Epoch 4:  75%|███████████████▊     | 1701/2263 [18:29<07:02,  1.33it/s]"
     ]
    },
    {
     "name": "stdout",
     "output_type": "stream",
     "text": [
      "[Batch 1700/2263] [D loss: 0.0000] [G loss: 14.0657]\n"
     ]
    },
    {
     "name": "stderr",
     "output_type": "stream",
     "text": [
      "Training Epoch 4:  80%|████████████████▋    | 1801/2263 [19:35<05:47,  1.33it/s]"
     ]
    },
    {
     "name": "stdout",
     "output_type": "stream",
     "text": [
      "[Batch 1800/2263] [D loss: 0.0000] [G loss: 13.6531]\n"
     ]
    },
    {
     "name": "stderr",
     "output_type": "stream",
     "text": [
      "Training Epoch 4:  84%|█████████████████▋   | 1901/2263 [20:41<04:32,  1.33it/s]"
     ]
    },
    {
     "name": "stdout",
     "output_type": "stream",
     "text": [
      "[Batch 1900/2263] [D loss: 0.0000] [G loss: 14.6892]\n"
     ]
    },
    {
     "name": "stderr",
     "output_type": "stream",
     "text": [
      "Training Epoch 4:  88%|██████████████████▌  | 2001/2263 [21:46<03:17,  1.33it/s]"
     ]
    },
    {
     "name": "stdout",
     "output_type": "stream",
     "text": [
      "[Batch 2000/2263] [D loss: 0.0000] [G loss: 14.0950]\n"
     ]
    },
    {
     "name": "stderr",
     "output_type": "stream",
     "text": [
      "Training Epoch 4:  93%|███████████████████▍ | 2101/2263 [22:52<02:01,  1.33it/s]"
     ]
    },
    {
     "name": "stdout",
     "output_type": "stream",
     "text": [
      "[Batch 2100/2263] [D loss: 0.0000] [G loss: 14.5207]\n"
     ]
    },
    {
     "name": "stderr",
     "output_type": "stream",
     "text": [
      "Training Epoch 4:  97%|████████████████████▍| 2201/2263 [23:58<00:46,  1.33it/s]"
     ]
    },
    {
     "name": "stdout",
     "output_type": "stream",
     "text": [
      "[Batch 2200/2263] [D loss: 0.0000] [G loss: 14.5565]\n"
     ]
    },
    {
     "name": "stderr",
     "output_type": "stream",
     "text": [
      "Training Epoch 4: 100%|█████████████████████| 2263/2263 [24:38<00:00,  1.53it/s]\n"
     ]
    },
    {
     "name": "stdout",
     "output_type": "stream",
     "text": [
      "Epoch 4/50\n",
      "FID: 442.38\n",
      "Inception Score: 1.00\n",
      "CLIP Score: 17.83\n",
      "---------------------\n"
     ]
    },
    {
     "name": "stderr",
     "output_type": "stream",
     "text": [
      "Training Epoch 5:   0%|                        | 1/2263 [00:00<29:30,  1.28it/s]"
     ]
    },
    {
     "name": "stdout",
     "output_type": "stream",
     "text": [
      "[Batch 0/2263] [D loss: 0.0000] [G loss: 14.5165]\n"
     ]
    },
    {
     "name": "stderr",
     "output_type": "stream",
     "text": [
      "Training Epoch 5:   4%|▉                     | 101/2263 [01:02<26:14,  1.37it/s]"
     ]
    },
    {
     "name": "stdout",
     "output_type": "stream",
     "text": [
      "[Batch 100/2263] [D loss: 0.0000] [G loss: 14.5826]\n"
     ]
    },
    {
     "name": "stderr",
     "output_type": "stream",
     "text": [
      "Training Epoch 5:   9%|█▉                    | 201/2263 [02:06<25:09,  1.37it/s]"
     ]
    },
    {
     "name": "stdout",
     "output_type": "stream",
     "text": [
      "[Batch 200/2263] [D loss: 0.0000] [G loss: 15.0919]\n"
     ]
    },
    {
     "name": "stderr",
     "output_type": "stream",
     "text": [
      "Training Epoch 5:  13%|██▉                   | 301/2263 [03:11<24:14,  1.35it/s]"
     ]
    },
    {
     "name": "stdout",
     "output_type": "stream",
     "text": [
      "[Batch 300/2263] [D loss: 0.0000] [G loss: 14.6698]\n"
     ]
    },
    {
     "name": "stderr",
     "output_type": "stream",
     "text": [
      "Training Epoch 5:  18%|███▉                  | 401/2263 [04:16<23:34,  1.32it/s]"
     ]
    },
    {
     "name": "stdout",
     "output_type": "stream",
     "text": [
      "[Batch 400/2263] [D loss: 0.0000] [G loss: 14.6846]\n"
     ]
    },
    {
     "name": "stderr",
     "output_type": "stream",
     "text": [
      "Training Epoch 5:  22%|████▊                 | 501/2263 [05:23<22:37,  1.30it/s]"
     ]
    },
    {
     "name": "stdout",
     "output_type": "stream",
     "text": [
      "[Batch 500/2263] [D loss: 0.0000] [G loss: 14.3678]\n"
     ]
    },
    {
     "name": "stderr",
     "output_type": "stream",
     "text": [
      "Training Epoch 5:  27%|█████▊                | 601/2263 [06:30<21:14,  1.30it/s]"
     ]
    },
    {
     "name": "stdout",
     "output_type": "stream",
     "text": [
      "[Batch 600/2263] [D loss: 0.0000] [G loss: 15.2842]\n"
     ]
    },
    {
     "name": "stderr",
     "output_type": "stream",
     "text": [
      "Training Epoch 5:  31%|██████▊               | 701/2263 [07:37<19:46,  1.32it/s]"
     ]
    },
    {
     "name": "stdout",
     "output_type": "stream",
     "text": [
      "[Batch 700/2263] [D loss: 0.0000] [G loss: 14.9260]\n"
     ]
    },
    {
     "name": "stderr",
     "output_type": "stream",
     "text": [
      "Training Epoch 5:  35%|███████▊              | 801/2263 [08:43<18:21,  1.33it/s]"
     ]
    },
    {
     "name": "stdout",
     "output_type": "stream",
     "text": [
      "[Batch 800/2263] [D loss: 0.0000] [G loss: 15.1567]\n"
     ]
    },
    {
     "name": "stderr",
     "output_type": "stream",
     "text": [
      "Training Epoch 5:  40%|████████▊             | 901/2263 [09:48<17:21,  1.31it/s]"
     ]
    },
    {
     "name": "stdout",
     "output_type": "stream",
     "text": [
      "[Batch 900/2263] [D loss: 0.0000] [G loss: 15.3978]\n"
     ]
    },
    {
     "name": "stderr",
     "output_type": "stream",
     "text": [
      "Training Epoch 5:  44%|█████████▎           | 1001/2263 [10:54<15:47,  1.33it/s]"
     ]
    },
    {
     "name": "stdout",
     "output_type": "stream",
     "text": [
      "[Batch 1000/2263] [D loss: 0.0000] [G loss: 15.3845]\n"
     ]
    },
    {
     "name": "stderr",
     "output_type": "stream",
     "text": [
      "Training Epoch 5:  49%|██████████▏          | 1101/2263 [12:00<14:34,  1.33it/s]"
     ]
    },
    {
     "name": "stdout",
     "output_type": "stream",
     "text": [
      "[Batch 1100/2263] [D loss: 0.0000] [G loss: 15.2920]\n"
     ]
    },
    {
     "name": "stderr",
     "output_type": "stream",
     "text": [
      "Training Epoch 5:  53%|███████████▏         | 1201/2263 [13:05<13:20,  1.33it/s]"
     ]
    },
    {
     "name": "stdout",
     "output_type": "stream",
     "text": [
      "[Batch 1200/2263] [D loss: 0.0000] [G loss: 15.2442]\n"
     ]
    },
    {
     "name": "stderr",
     "output_type": "stream",
     "text": [
      "Training Epoch 5:  57%|████████████         | 1301/2263 [14:11<12:07,  1.32it/s]"
     ]
    },
    {
     "name": "stdout",
     "output_type": "stream",
     "text": [
      "[Batch 1300/2263] [D loss: 0.0000] [G loss: 15.6482]\n"
     ]
    },
    {
     "name": "stderr",
     "output_type": "stream",
     "text": [
      "Training Epoch 5:  62%|█████████████        | 1401/2263 [15:16<10:40,  1.35it/s]"
     ]
    },
    {
     "name": "stdout",
     "output_type": "stream",
     "text": [
      "[Batch 1400/2263] [D loss: 0.0000] [G loss: 15.1370]\n"
     ]
    },
    {
     "name": "stderr",
     "output_type": "stream",
     "text": [
      "Training Epoch 5:  66%|█████████████▉       | 1501/2263 [16:21<09:26,  1.35it/s]"
     ]
    },
    {
     "name": "stdout",
     "output_type": "stream",
     "text": [
      "[Batch 1500/2263] [D loss: 0.0000] [G loss: 15.7411]\n"
     ]
    },
    {
     "name": "stderr",
     "output_type": "stream",
     "text": [
      "Training Epoch 5:  71%|██████████████▊      | 1601/2263 [17:27<08:19,  1.33it/s]"
     ]
    },
    {
     "name": "stdout",
     "output_type": "stream",
     "text": [
      "[Batch 1600/2263] [D loss: 0.0000] [G loss: 15.8578]\n"
     ]
    },
    {
     "name": "stderr",
     "output_type": "stream",
     "text": [
      "Training Epoch 5:  75%|███████████████▊     | 1701/2263 [18:33<07:04,  1.32it/s]"
     ]
    },
    {
     "name": "stdout",
     "output_type": "stream",
     "text": [
      "[Batch 1700/2263] [D loss: 0.0000] [G loss: 15.8476]\n"
     ]
    },
    {
     "name": "stderr",
     "output_type": "stream",
     "text": [
      "Training Epoch 5:  80%|████████████████▋    | 1801/2263 [19:38<05:49,  1.32it/s]"
     ]
    },
    {
     "name": "stdout",
     "output_type": "stream",
     "text": [
      "[Batch 1800/2263] [D loss: 0.0000] [G loss: 15.9845]\n"
     ]
    },
    {
     "name": "stderr",
     "output_type": "stream",
     "text": [
      "Training Epoch 5:  84%|█████████████████▋   | 1901/2263 [20:44<04:33,  1.33it/s]"
     ]
    },
    {
     "name": "stdout",
     "output_type": "stream",
     "text": [
      "[Batch 1900/2263] [D loss: 0.0000] [G loss: 16.0394]\n"
     ]
    },
    {
     "name": "stderr",
     "output_type": "stream",
     "text": [
      "Training Epoch 5:  88%|██████████████████▌  | 2001/2263 [21:50<03:20,  1.31it/s]"
     ]
    },
    {
     "name": "stdout",
     "output_type": "stream",
     "text": [
      "[Batch 2000/2263] [D loss: 0.0000] [G loss: 16.0706]\n"
     ]
    },
    {
     "name": "stderr",
     "output_type": "stream",
     "text": [
      "Training Epoch 5:  93%|███████████████████▍ | 2101/2263 [22:56<02:04,  1.30it/s]"
     ]
    },
    {
     "name": "stdout",
     "output_type": "stream",
     "text": [
      "[Batch 2100/2263] [D loss: 0.0000] [G loss: 15.8065]\n"
     ]
    },
    {
     "name": "stderr",
     "output_type": "stream",
     "text": [
      "Training Epoch 5:  97%|████████████████████▍| 2201/2263 [24:02<00:46,  1.33it/s]"
     ]
    },
    {
     "name": "stdout",
     "output_type": "stream",
     "text": [
      "[Batch 2200/2263] [D loss: 0.0000] [G loss: 16.1928]\n"
     ]
    },
    {
     "name": "stderr",
     "output_type": "stream",
     "text": [
      "Training Epoch 5: 100%|█████████████████████| 2263/2263 [24:42<00:00,  1.53it/s]\n"
     ]
    },
    {
     "name": "stdout",
     "output_type": "stream",
     "text": [
      "Epoch 5/50\n",
      "FID: 432.15\n",
      "Inception Score: 1.00\n",
      "CLIP Score: 17.66\n",
      "---------------------\n"
     ]
    },
    {
     "name": "stderr",
     "output_type": "stream",
     "text": [
      "Training Epoch 6:   0%|                        | 1/2263 [00:00<29:16,  1.29it/s]"
     ]
    },
    {
     "name": "stdout",
     "output_type": "stream",
     "text": [
      "[Batch 0/2263] [D loss: 0.0000] [G loss: 15.9579]\n"
     ]
    },
    {
     "name": "stderr",
     "output_type": "stream",
     "text": [
      "Training Epoch 6:   4%|▉                     | 101/2263 [01:02<26:13,  1.37it/s]"
     ]
    },
    {
     "name": "stdout",
     "output_type": "stream",
     "text": [
      "[Batch 100/2263] [D loss: 0.0000] [G loss: 15.6477]\n"
     ]
    },
    {
     "name": "stderr",
     "output_type": "stream",
     "text": [
      "Training Epoch 6:   9%|█▉                    | 201/2263 [02:06<25:12,  1.36it/s]"
     ]
    },
    {
     "name": "stdout",
     "output_type": "stream",
     "text": [
      "[Batch 200/2263] [D loss: 0.0000] [G loss: 16.0401]\n"
     ]
    },
    {
     "name": "stderr",
     "output_type": "stream",
     "text": [
      "Training Epoch 6:  13%|██▉                   | 301/2263 [03:11<24:18,  1.34it/s]"
     ]
    },
    {
     "name": "stdout",
     "output_type": "stream",
     "text": [
      "[Batch 300/2263] [D loss: 0.0000] [G loss: 16.3300]\n"
     ]
    },
    {
     "name": "stderr",
     "output_type": "stream",
     "text": [
      "Training Epoch 6:  18%|███▉                  | 401/2263 [04:16<23:33,  1.32it/s]"
     ]
    },
    {
     "name": "stdout",
     "output_type": "stream",
     "text": [
      "[Batch 400/2263] [D loss: 0.0000] [G loss: 16.5485]\n"
     ]
    },
    {
     "name": "stderr",
     "output_type": "stream",
     "text": [
      "Training Epoch 6:  22%|████▊                 | 501/2263 [05:23<22:33,  1.30it/s]"
     ]
    },
    {
     "name": "stdout",
     "output_type": "stream",
     "text": [
      "[Batch 500/2263] [D loss: 0.0000] [G loss: 16.5066]\n"
     ]
    },
    {
     "name": "stderr",
     "output_type": "stream",
     "text": [
      "Training Epoch 6:  27%|█████▊                | 601/2263 [06:30<21:17,  1.30it/s]"
     ]
    },
    {
     "name": "stdout",
     "output_type": "stream",
     "text": [
      "[Batch 600/2263] [D loss: 0.0000] [G loss: 16.4331]\n"
     ]
    },
    {
     "name": "stderr",
     "output_type": "stream",
     "text": [
      "Training Epoch 6:  31%|██████▊               | 701/2263 [07:37<19:52,  1.31it/s]"
     ]
    },
    {
     "name": "stdout",
     "output_type": "stream",
     "text": [
      "[Batch 700/2263] [D loss: 0.0000] [G loss: 16.2905]\n"
     ]
    },
    {
     "name": "stderr",
     "output_type": "stream",
     "text": [
      "Training Epoch 6:  35%|███████▊              | 801/2263 [08:44<18:30,  1.32it/s]"
     ]
    },
    {
     "name": "stdout",
     "output_type": "stream",
     "text": [
      "[Batch 800/2263] [D loss: 0.0000] [G loss: 16.4564]\n"
     ]
    },
    {
     "name": "stderr",
     "output_type": "stream",
     "text": [
      "Training Epoch 6:  40%|████████▊             | 901/2263 [09:50<17:09,  1.32it/s]"
     ]
    },
    {
     "name": "stdout",
     "output_type": "stream",
     "text": [
      "[Batch 900/2263] [D loss: 0.0000] [G loss: 16.7863]\n"
     ]
    },
    {
     "name": "stderr",
     "output_type": "stream",
     "text": [
      "Training Epoch 6:  44%|█████████▎           | 1001/2263 [10:56<15:53,  1.32it/s]"
     ]
    },
    {
     "name": "stdout",
     "output_type": "stream",
     "text": [
      "[Batch 1000/2263] [D loss: 0.0000] [G loss: 16.3592]\n"
     ]
    },
    {
     "name": "stderr",
     "output_type": "stream",
     "text": [
      "Training Epoch 6:  49%|██████████▏          | 1101/2263 [12:01<14:36,  1.33it/s]"
     ]
    },
    {
     "name": "stdout",
     "output_type": "stream",
     "text": [
      "[Batch 1100/2263] [D loss: 0.0000] [G loss: 16.7848]\n"
     ]
    },
    {
     "name": "stderr",
     "output_type": "stream",
     "text": [
      "Training Epoch 6:  53%|███████████▏         | 1201/2263 [13:07<13:42,  1.29it/s]"
     ]
    },
    {
     "name": "stdout",
     "output_type": "stream",
     "text": [
      "[Batch 1200/2263] [D loss: 0.0000] [G loss: 17.0393]\n"
     ]
    },
    {
     "name": "stderr",
     "output_type": "stream",
     "text": [
      "Training Epoch 6:  57%|████████████         | 1301/2263 [14:13<12:09,  1.32it/s]"
     ]
    },
    {
     "name": "stdout",
     "output_type": "stream",
     "text": [
      "[Batch 1300/2263] [D loss: 0.0000] [G loss: 16.9667]\n"
     ]
    },
    {
     "name": "stderr",
     "output_type": "stream",
     "text": [
      "Training Epoch 6:  62%|█████████████        | 1401/2263 [15:20<10:54,  1.32it/s]"
     ]
    },
    {
     "name": "stdout",
     "output_type": "stream",
     "text": [
      "[Batch 1400/2263] [D loss: 0.0000] [G loss: 16.9122]\n"
     ]
    },
    {
     "name": "stderr",
     "output_type": "stream",
     "text": [
      "Training Epoch 6:  66%|█████████████▉       | 1501/2263 [16:26<09:39,  1.32it/s]"
     ]
    },
    {
     "name": "stdout",
     "output_type": "stream",
     "text": [
      "[Batch 1500/2263] [D loss: 0.0000] [G loss: 16.1713]\n"
     ]
    },
    {
     "name": "stderr",
     "output_type": "stream",
     "text": [
      "Training Epoch 6:  71%|██████████████▊      | 1601/2263 [17:33<08:22,  1.32it/s]"
     ]
    },
    {
     "name": "stdout",
     "output_type": "stream",
     "text": [
      "[Batch 1600/2263] [D loss: 0.0000] [G loss: 16.9197]\n"
     ]
    },
    {
     "name": "stderr",
     "output_type": "stream",
     "text": [
      "Training Epoch 6:  75%|███████████████▊     | 1701/2263 [18:39<07:07,  1.32it/s]"
     ]
    },
    {
     "name": "stdout",
     "output_type": "stream",
     "text": [
      "[Batch 1700/2263] [D loss: 0.0000] [G loss: 16.8835]\n"
     ]
    },
    {
     "name": "stderr",
     "output_type": "stream",
     "text": [
      "Training Epoch 6:  80%|████████████████▋    | 1801/2263 [19:44<05:44,  1.34it/s]"
     ]
    },
    {
     "name": "stdout",
     "output_type": "stream",
     "text": [
      "[Batch 1800/2263] [D loss: 0.0000] [G loss: 17.0260]\n"
     ]
    },
    {
     "name": "stderr",
     "output_type": "stream",
     "text": [
      "Training Epoch 6:  84%|█████████████████▋   | 1901/2263 [20:49<04:29,  1.34it/s]"
     ]
    },
    {
     "name": "stdout",
     "output_type": "stream",
     "text": [
      "[Batch 1900/2263] [D loss: 0.0000] [G loss: 17.0649]\n"
     ]
    },
    {
     "name": "stderr",
     "output_type": "stream",
     "text": [
      "Training Epoch 6:  88%|██████████████████▌  | 2001/2263 [21:55<03:17,  1.33it/s]"
     ]
    },
    {
     "name": "stdout",
     "output_type": "stream",
     "text": [
      "[Batch 2000/2263] [D loss: 0.0000] [G loss: 16.9238]\n"
     ]
    },
    {
     "name": "stderr",
     "output_type": "stream",
     "text": [
      "Training Epoch 6:  93%|███████████████████▍ | 2101/2263 [23:01<02:02,  1.33it/s]"
     ]
    },
    {
     "name": "stdout",
     "output_type": "stream",
     "text": [
      "[Batch 2100/2263] [D loss: 0.0000] [G loss: 17.2010]\n"
     ]
    },
    {
     "name": "stderr",
     "output_type": "stream",
     "text": [
      "Training Epoch 6:  97%|████████████████████▍| 2201/2263 [24:07<00:46,  1.33it/s]"
     ]
    },
    {
     "name": "stdout",
     "output_type": "stream",
     "text": [
      "[Batch 2200/2263] [D loss: 0.0000] [G loss: 17.3477]\n"
     ]
    },
    {
     "name": "stderr",
     "output_type": "stream",
     "text": [
      "Training Epoch 6: 100%|█████████████████████| 2263/2263 [24:47<00:00,  1.52it/s]\n"
     ]
    },
    {
     "name": "stdout",
     "output_type": "stream",
     "text": [
      "Epoch 6/50\n",
      "FID: 442.74\n",
      "Inception Score: 1.00\n",
      "CLIP Score: 17.89\n",
      "---------------------\n"
     ]
    },
    {
     "name": "stderr",
     "output_type": "stream",
     "text": [
      "Training Epoch 7:   0%|                        | 1/2263 [00:00<29:36,  1.27it/s]"
     ]
    },
    {
     "name": "stdout",
     "output_type": "stream",
     "text": [
      "[Batch 0/2263] [D loss: 0.0000] [G loss: 16.9900]\n"
     ]
    },
    {
     "name": "stderr",
     "output_type": "stream",
     "text": [
      "Training Epoch 7:   4%|▉                     | 101/2263 [01:02<25:59,  1.39it/s]"
     ]
    },
    {
     "name": "stdout",
     "output_type": "stream",
     "text": [
      "[Batch 100/2263] [D loss: 0.0000] [G loss: 17.1522]\n"
     ]
    },
    {
     "name": "stderr",
     "output_type": "stream",
     "text": [
      "Training Epoch 7:   9%|█▉                    | 201/2263 [02:06<25:14,  1.36it/s]"
     ]
    },
    {
     "name": "stdout",
     "output_type": "stream",
     "text": [
      "[Batch 200/2263] [D loss: 0.0000] [G loss: 17.3645]\n"
     ]
    },
    {
     "name": "stderr",
     "output_type": "stream",
     "text": [
      "Training Epoch 7:  13%|██▉                   | 301/2263 [03:11<24:19,  1.34it/s]"
     ]
    },
    {
     "name": "stdout",
     "output_type": "stream",
     "text": [
      "[Batch 300/2263] [D loss: 0.0000] [G loss: 17.1019]\n"
     ]
    },
    {
     "name": "stderr",
     "output_type": "stream",
     "text": [
      "Training Epoch 7:  18%|███▉                  | 401/2263 [04:16<23:57,  1.30it/s]"
     ]
    },
    {
     "name": "stdout",
     "output_type": "stream",
     "text": [
      "[Batch 400/2263] [D loss: 0.0000] [G loss: 17.4097]\n"
     ]
    },
    {
     "name": "stderr",
     "output_type": "stream",
     "text": [
      "Training Epoch 7:  22%|████▊                 | 501/2263 [05:23<22:30,  1.30it/s]"
     ]
    },
    {
     "name": "stdout",
     "output_type": "stream",
     "text": [
      "[Batch 500/2263] [D loss: 0.0000] [G loss: 17.1347]\n"
     ]
    },
    {
     "name": "stderr",
     "output_type": "stream",
     "text": [
      "Training Epoch 7:  27%|█████▊                | 601/2263 [06:30<21:15,  1.30it/s]"
     ]
    },
    {
     "name": "stdout",
     "output_type": "stream",
     "text": [
      "[Batch 600/2263] [D loss: 0.0000] [G loss: 17.4305]\n"
     ]
    },
    {
     "name": "stderr",
     "output_type": "stream",
     "text": [
      "Training Epoch 7:  31%|██████▊               | 701/2263 [07:37<19:57,  1.30it/s]"
     ]
    },
    {
     "name": "stdout",
     "output_type": "stream",
     "text": [
      "[Batch 700/2263] [D loss: 0.0000] [G loss: 17.3466]\n"
     ]
    },
    {
     "name": "stderr",
     "output_type": "stream",
     "text": [
      "Training Epoch 7:  35%|███████▊              | 801/2263 [08:43<18:27,  1.32it/s]"
     ]
    },
    {
     "name": "stdout",
     "output_type": "stream",
     "text": [
      "[Batch 800/2263] [D loss: 0.0000] [G loss: 17.2920]\n"
     ]
    },
    {
     "name": "stderr",
     "output_type": "stream",
     "text": [
      "Training Epoch 7:  40%|████████▊             | 901/2263 [09:49<17:19,  1.31it/s]"
     ]
    },
    {
     "name": "stdout",
     "output_type": "stream",
     "text": [
      "[Batch 900/2263] [D loss: 0.0000] [G loss: 17.5993]\n"
     ]
    },
    {
     "name": "stderr",
     "output_type": "stream",
     "text": [
      "Training Epoch 7:  44%|█████████▎           | 1001/2263 [10:55<15:52,  1.32it/s]"
     ]
    },
    {
     "name": "stdout",
     "output_type": "stream",
     "text": [
      "[Batch 1000/2263] [D loss: 0.0000] [G loss: 17.3899]\n"
     ]
    },
    {
     "name": "stderr",
     "output_type": "stream",
     "text": [
      "Training Epoch 7:  49%|██████████▏          | 1101/2263 [12:01<14:37,  1.32it/s]"
     ]
    },
    {
     "name": "stdout",
     "output_type": "stream",
     "text": [
      "[Batch 1100/2263] [D loss: 0.0000] [G loss: 16.9753]\n"
     ]
    },
    {
     "name": "stderr",
     "output_type": "stream",
     "text": [
      "Training Epoch 7:  53%|███████████▏         | 1201/2263 [13:07<13:21,  1.32it/s]"
     ]
    },
    {
     "name": "stdout",
     "output_type": "stream",
     "text": [
      "[Batch 1200/2263] [D loss: 0.0000] [G loss: 17.5122]\n"
     ]
    },
    {
     "name": "stderr",
     "output_type": "stream",
     "text": [
      "Training Epoch 7:  57%|████████████         | 1301/2263 [14:13<12:06,  1.32it/s]"
     ]
    },
    {
     "name": "stdout",
     "output_type": "stream",
     "text": [
      "[Batch 1300/2263] [D loss: 0.0000] [G loss: 16.6289]\n"
     ]
    },
    {
     "name": "stderr",
     "output_type": "stream",
     "text": [
      "Training Epoch 7:  62%|█████████████        | 1401/2263 [15:19<10:51,  1.32it/s]"
     ]
    },
    {
     "name": "stdout",
     "output_type": "stream",
     "text": [
      "[Batch 1400/2263] [D loss: 0.0000] [G loss: 17.2795]\n"
     ]
    },
    {
     "name": "stderr",
     "output_type": "stream",
     "text": [
      "Training Epoch 7:  66%|█████████████▉       | 1501/2263 [16:25<09:36,  1.32it/s]"
     ]
    },
    {
     "name": "stdout",
     "output_type": "stream",
     "text": [
      "[Batch 1500/2263] [D loss: 0.0000] [G loss: 16.9434]\n"
     ]
    },
    {
     "name": "stderr",
     "output_type": "stream",
     "text": [
      "Training Epoch 7:  71%|██████████████▊      | 1601/2263 [17:31<08:21,  1.32it/s]"
     ]
    },
    {
     "name": "stdout",
     "output_type": "stream",
     "text": [
      "[Batch 1600/2263] [D loss: 0.0000] [G loss: 16.5612]\n"
     ]
    },
    {
     "name": "stderr",
     "output_type": "stream",
     "text": [
      "Training Epoch 7:  75%|███████████████▊     | 1701/2263 [18:37<07:06,  1.32it/s]"
     ]
    },
    {
     "name": "stdout",
     "output_type": "stream",
     "text": [
      "[Batch 1700/2263] [D loss: 0.0000] [G loss: 16.5320]\n"
     ]
    },
    {
     "name": "stderr",
     "output_type": "stream",
     "text": [
      "Training Epoch 7:  80%|████████████████▋    | 1801/2263 [19:43<05:50,  1.32it/s]"
     ]
    },
    {
     "name": "stdout",
     "output_type": "stream",
     "text": [
      "[Batch 1800/2263] [D loss: 0.0000] [G loss: 16.8252]\n"
     ]
    },
    {
     "name": "stderr",
     "output_type": "stream",
     "text": [
      "Training Epoch 7:  84%|█████████████████▋   | 1901/2263 [20:49<04:39,  1.29it/s]"
     ]
    },
    {
     "name": "stdout",
     "output_type": "stream",
     "text": [
      "[Batch 1900/2263] [D loss: 0.0000] [G loss: 16.7662]\n"
     ]
    },
    {
     "name": "stderr",
     "output_type": "stream",
     "text": [
      "Training Epoch 7:  88%|██████████████████▌  | 2001/2263 [21:55<03:18,  1.32it/s]"
     ]
    },
    {
     "name": "stdout",
     "output_type": "stream",
     "text": [
      "[Batch 2000/2263] [D loss: 0.0000] [G loss: 16.8983]\n"
     ]
    },
    {
     "name": "stderr",
     "output_type": "stream",
     "text": [
      "Training Epoch 7:  93%|███████████████████▍ | 2101/2263 [23:01<02:02,  1.32it/s]"
     ]
    },
    {
     "name": "stdout",
     "output_type": "stream",
     "text": [
      "[Batch 2100/2263] [D loss: 0.0000] [G loss: 17.1068]\n"
     ]
    },
    {
     "name": "stderr",
     "output_type": "stream",
     "text": [
      "Training Epoch 7:  97%|████████████████████▍| 2201/2263 [24:08<00:47,  1.32it/s]"
     ]
    },
    {
     "name": "stdout",
     "output_type": "stream",
     "text": [
      "[Batch 2200/2263] [D loss: 0.0000] [G loss: 16.0806]\n"
     ]
    },
    {
     "name": "stderr",
     "output_type": "stream",
     "text": [
      "Training Epoch 7: 100%|█████████████████████| 2263/2263 [24:48<00:00,  1.52it/s]\n"
     ]
    },
    {
     "name": "stdout",
     "output_type": "stream",
     "text": [
      "Epoch 7/50\n",
      "FID: 449.16\n",
      "Inception Score: 1.00\n",
      "CLIP Score: 18.64\n",
      "---------------------\n"
     ]
    },
    {
     "name": "stderr",
     "output_type": "stream",
     "text": [
      "Training Epoch 8:   0%|                        | 1/2263 [00:00<29:20,  1.28it/s]"
     ]
    },
    {
     "name": "stdout",
     "output_type": "stream",
     "text": [
      "[Batch 0/2263] [D loss: 0.0000] [G loss: 17.3016]\n"
     ]
    },
    {
     "name": "stderr",
     "output_type": "stream",
     "text": [
      "Training Epoch 8:   4%|▉                     | 101/2263 [01:02<26:10,  1.38it/s]"
     ]
    },
    {
     "name": "stdout",
     "output_type": "stream",
     "text": [
      "[Batch 100/2263] [D loss: 0.0000] [G loss: 17.5126]\n"
     ]
    },
    {
     "name": "stderr",
     "output_type": "stream",
     "text": [
      "Training Epoch 8:   9%|█▉                    | 201/2263 [02:06<25:14,  1.36it/s]"
     ]
    },
    {
     "name": "stdout",
     "output_type": "stream",
     "text": [
      "[Batch 200/2263] [D loss: 0.0000] [G loss: 17.6821]\n"
     ]
    },
    {
     "name": "stderr",
     "output_type": "stream",
     "text": [
      "Training Epoch 8:  13%|██▉                   | 301/2263 [03:11<24:17,  1.35it/s]"
     ]
    },
    {
     "name": "stdout",
     "output_type": "stream",
     "text": [
      "[Batch 300/2263] [D loss: 0.0000] [G loss: 17.6843]\n"
     ]
    },
    {
     "name": "stderr",
     "output_type": "stream",
     "text": [
      "Training Epoch 8:  18%|███▉                  | 401/2263 [04:16<23:27,  1.32it/s]"
     ]
    },
    {
     "name": "stdout",
     "output_type": "stream",
     "text": [
      "[Batch 400/2263] [D loss: 0.0000] [G loss: 18.1546]\n"
     ]
    },
    {
     "name": "stderr",
     "output_type": "stream",
     "text": [
      "Training Epoch 8:  22%|████▊                 | 501/2263 [05:22<22:16,  1.32it/s]"
     ]
    },
    {
     "name": "stdout",
     "output_type": "stream",
     "text": [
      "[Batch 500/2263] [D loss: 0.0000] [G loss: 17.8014]\n"
     ]
    },
    {
     "name": "stderr",
     "output_type": "stream",
     "text": [
      "Training Epoch 8:  27%|█████▊                | 601/2263 [06:28<21:08,  1.31it/s]"
     ]
    },
    {
     "name": "stdout",
     "output_type": "stream",
     "text": [
      "[Batch 600/2263] [D loss: 0.0000] [G loss: 18.0105]\n"
     ]
    },
    {
     "name": "stderr",
     "output_type": "stream",
     "text": [
      "Training Epoch 8:  31%|██████▊               | 701/2263 [07:35<19:52,  1.31it/s]"
     ]
    },
    {
     "name": "stdout",
     "output_type": "stream",
     "text": [
      "[Batch 700/2263] [D loss: 0.0000] [G loss: 18.1620]\n"
     ]
    },
    {
     "name": "stderr",
     "output_type": "stream",
     "text": [
      "Training Epoch 8:  35%|███████▊              | 801/2263 [08:41<18:26,  1.32it/s]"
     ]
    },
    {
     "name": "stdout",
     "output_type": "stream",
     "text": [
      "[Batch 800/2263] [D loss: 0.0000] [G loss: 18.5738]\n"
     ]
    },
    {
     "name": "stderr",
     "output_type": "stream",
     "text": [
      "Training Epoch 8:  40%|████████▊             | 901/2263 [09:47<17:07,  1.33it/s]"
     ]
    },
    {
     "name": "stdout",
     "output_type": "stream",
     "text": [
      "[Batch 900/2263] [D loss: 0.0000] [G loss: 18.1128]\n"
     ]
    },
    {
     "name": "stderr",
     "output_type": "stream",
     "text": [
      "Training Epoch 8:  44%|█████████▎           | 1001/2263 [10:53<15:48,  1.33it/s]"
     ]
    },
    {
     "name": "stdout",
     "output_type": "stream",
     "text": [
      "[Batch 1000/2263] [D loss: 0.0000] [G loss: 18.6442]\n"
     ]
    },
    {
     "name": "stderr",
     "output_type": "stream",
     "text": [
      "Training Epoch 8:  49%|██████████▏          | 1101/2263 [11:58<14:32,  1.33it/s]"
     ]
    },
    {
     "name": "stdout",
     "output_type": "stream",
     "text": [
      "[Batch 1100/2263] [D loss: 0.0000] [G loss: 18.5900]\n"
     ]
    },
    {
     "name": "stderr",
     "output_type": "stream",
     "text": [
      "Training Epoch 8:  53%|███████████▏         | 1201/2263 [13:04<13:18,  1.33it/s]"
     ]
    },
    {
     "name": "stdout",
     "output_type": "stream",
     "text": [
      "[Batch 1200/2263] [D loss: 0.0000] [G loss: 18.1762]\n"
     ]
    },
    {
     "name": "stderr",
     "output_type": "stream",
     "text": [
      "Training Epoch 8:  57%|████████████         | 1301/2263 [14:10<12:09,  1.32it/s]"
     ]
    },
    {
     "name": "stdout",
     "output_type": "stream",
     "text": [
      "[Batch 1300/2263] [D loss: 0.0000] [G loss: 18.5175]\n"
     ]
    },
    {
     "name": "stderr",
     "output_type": "stream",
     "text": [
      "Training Epoch 8:  62%|█████████████        | 1401/2263 [15:16<10:52,  1.32it/s]"
     ]
    },
    {
     "name": "stdout",
     "output_type": "stream",
     "text": [
      "[Batch 1400/2263] [D loss: 0.0000] [G loss: 18.4567]\n"
     ]
    },
    {
     "name": "stderr",
     "output_type": "stream",
     "text": [
      "Training Epoch 8:  66%|█████████████▉       | 1501/2263 [16:22<09:36,  1.32it/s]"
     ]
    },
    {
     "name": "stdout",
     "output_type": "stream",
     "text": [
      "[Batch 1500/2263] [D loss: 0.0000] [G loss: 18.8679]\n"
     ]
    },
    {
     "name": "stderr",
     "output_type": "stream",
     "text": [
      "Training Epoch 8:  71%|██████████████▊      | 1601/2263 [17:28<08:22,  1.32it/s]"
     ]
    },
    {
     "name": "stdout",
     "output_type": "stream",
     "text": [
      "[Batch 1600/2263] [D loss: 0.0000] [G loss: 18.7366]\n"
     ]
    },
    {
     "name": "stderr",
     "output_type": "stream",
     "text": [
      "Training Epoch 8:  75%|███████████████▊     | 1701/2263 [18:34<07:05,  1.32it/s]"
     ]
    },
    {
     "name": "stdout",
     "output_type": "stream",
     "text": [
      "[Batch 1700/2263] [D loss: 0.0000] [G loss: 19.0225]\n"
     ]
    },
    {
     "name": "stderr",
     "output_type": "stream",
     "text": [
      "Training Epoch 8:  80%|████████████████▋    | 1801/2263 [19:40<05:50,  1.32it/s]"
     ]
    },
    {
     "name": "stdout",
     "output_type": "stream",
     "text": [
      "[Batch 1800/2263] [D loss: 0.0000] [G loss: 18.8959]\n"
     ]
    },
    {
     "name": "stderr",
     "output_type": "stream",
     "text": [
      "Training Epoch 8:  84%|█████████████████▋   | 1901/2263 [20:47<04:34,  1.32it/s]"
     ]
    },
    {
     "name": "stdout",
     "output_type": "stream",
     "text": [
      "[Batch 1900/2263] [D loss: 0.0000] [G loss: 19.0414]\n"
     ]
    },
    {
     "name": "stderr",
     "output_type": "stream",
     "text": [
      "Training Epoch 8:  88%|██████████████████▌  | 2001/2263 [21:53<03:18,  1.32it/s]"
     ]
    },
    {
     "name": "stdout",
     "output_type": "stream",
     "text": [
      "[Batch 2000/2263] [D loss: 0.0000] [G loss: 18.8497]\n"
     ]
    },
    {
     "name": "stderr",
     "output_type": "stream",
     "text": [
      "Training Epoch 8:  93%|███████████████████▍ | 2101/2263 [22:59<02:02,  1.32it/s]"
     ]
    },
    {
     "name": "stdout",
     "output_type": "stream",
     "text": [
      "[Batch 2100/2263] [D loss: 0.0000] [G loss: 19.1974]\n"
     ]
    },
    {
     "name": "stderr",
     "output_type": "stream",
     "text": [
      "Training Epoch 8:  97%|████████████████████▍| 2201/2263 [24:05<00:46,  1.32it/s]"
     ]
    },
    {
     "name": "stdout",
     "output_type": "stream",
     "text": [
      "[Batch 2200/2263] [D loss: 0.0000] [G loss: 19.1577]\n"
     ]
    },
    {
     "name": "stderr",
     "output_type": "stream",
     "text": [
      "Training Epoch 8: 100%|█████████████████████| 2263/2263 [24:45<00:00,  1.52it/s]\n"
     ]
    },
    {
     "name": "stdout",
     "output_type": "stream",
     "text": [
      "Epoch 8/50\n",
      "FID: 472.25\n",
      "Inception Score: 1.00\n",
      "CLIP Score: 17.73\n",
      "---------------------\n"
     ]
    },
    {
     "name": "stderr",
     "output_type": "stream",
     "text": [
      "Training Epoch 9:   0%|                        | 1/2263 [00:00<29:30,  1.28it/s]"
     ]
    },
    {
     "name": "stdout",
     "output_type": "stream",
     "text": [
      "[Batch 0/2263] [D loss: 0.0000] [G loss: 19.0177]\n"
     ]
    },
    {
     "name": "stderr",
     "output_type": "stream",
     "text": [
      "Training Epoch 9:   4%|▉                     | 101/2263 [01:02<25:52,  1.39it/s]"
     ]
    },
    {
     "name": "stdout",
     "output_type": "stream",
     "text": [
      "[Batch 100/2263] [D loss: 0.0000] [G loss: 19.5204]\n"
     ]
    },
    {
     "name": "stderr",
     "output_type": "stream",
     "text": [
      "Training Epoch 9:   9%|█▉                    | 201/2263 [02:06<25:09,  1.37it/s]"
     ]
    },
    {
     "name": "stdout",
     "output_type": "stream",
     "text": [
      "[Batch 200/2263] [D loss: 0.0000] [G loss: 19.7859]\n"
     ]
    },
    {
     "name": "stderr",
     "output_type": "stream",
     "text": [
      "Training Epoch 9:  13%|██▉                   | 301/2263 [03:10<24:16,  1.35it/s]"
     ]
    },
    {
     "name": "stdout",
     "output_type": "stream",
     "text": [
      "[Batch 300/2263] [D loss: 0.0000] [G loss: 19.5478]\n"
     ]
    },
    {
     "name": "stderr",
     "output_type": "stream",
     "text": [
      "Training Epoch 9:  18%|███▉                  | 401/2263 [04:16<23:19,  1.33it/s]"
     ]
    },
    {
     "name": "stdout",
     "output_type": "stream",
     "text": [
      "[Batch 400/2263] [D loss: 0.0000] [G loss: 19.2038]\n"
     ]
    },
    {
     "name": "stderr",
     "output_type": "stream",
     "text": [
      "Training Epoch 9:  22%|████▊                 | 501/2263 [05:22<22:21,  1.31it/s]"
     ]
    },
    {
     "name": "stdout",
     "output_type": "stream",
     "text": [
      "[Batch 500/2263] [D loss: 0.0000] [G loss: 19.7492]\n"
     ]
    },
    {
     "name": "stderr",
     "output_type": "stream",
     "text": [
      "Training Epoch 9:  27%|█████▊                | 601/2263 [06:29<21:10,  1.31it/s]"
     ]
    },
    {
     "name": "stdout",
     "output_type": "stream",
     "text": [
      "[Batch 600/2263] [D loss: 0.0000] [G loss: 19.7744]\n"
     ]
    },
    {
     "name": "stderr",
     "output_type": "stream",
     "text": [
      "Training Epoch 9:  31%|██████▊               | 701/2263 [07:35<19:50,  1.31it/s]"
     ]
    },
    {
     "name": "stdout",
     "output_type": "stream",
     "text": [
      "[Batch 700/2263] [D loss: 0.0000] [G loss: 19.9378]\n"
     ]
    },
    {
     "name": "stderr",
     "output_type": "stream",
     "text": [
      "Training Epoch 9:  35%|███████▊              | 801/2263 [08:42<18:25,  1.32it/s]"
     ]
    },
    {
     "name": "stdout",
     "output_type": "stream",
     "text": [
      "[Batch 800/2263] [D loss: 0.0000] [G loss: 20.1599]\n"
     ]
    },
    {
     "name": "stderr",
     "output_type": "stream",
     "text": [
      "Training Epoch 9:  40%|████████▊             | 901/2263 [09:48<17:04,  1.33it/s]"
     ]
    },
    {
     "name": "stdout",
     "output_type": "stream",
     "text": [
      "[Batch 900/2263] [D loss: 0.0000] [G loss: 19.6975]\n"
     ]
    },
    {
     "name": "stderr",
     "output_type": "stream",
     "text": [
      "Training Epoch 9:  44%|█████████▎           | 1001/2263 [10:53<16:18,  1.29it/s]"
     ]
    },
    {
     "name": "stdout",
     "output_type": "stream",
     "text": [
      "[Batch 1000/2263] [D loss: 0.0000] [G loss: 19.8348]\n"
     ]
    },
    {
     "name": "stderr",
     "output_type": "stream",
     "text": [
      "Training Epoch 9:  49%|██████████▏          | 1101/2263 [11:59<14:34,  1.33it/s]"
     ]
    },
    {
     "name": "stdout",
     "output_type": "stream",
     "text": [
      "[Batch 1100/2263] [D loss: 0.0000] [G loss: 19.9534]\n"
     ]
    },
    {
     "name": "stderr",
     "output_type": "stream",
     "text": [
      "Training Epoch 9:  53%|███████████▏         | 1201/2263 [13:05<13:18,  1.33it/s]"
     ]
    },
    {
     "name": "stdout",
     "output_type": "stream",
     "text": [
      "[Batch 1200/2263] [D loss: 0.0000] [G loss: 19.4041]\n"
     ]
    },
    {
     "name": "stderr",
     "output_type": "stream",
     "text": [
      "Training Epoch 9:  57%|████████████         | 1301/2263 [14:10<12:04,  1.33it/s]"
     ]
    },
    {
     "name": "stdout",
     "output_type": "stream",
     "text": [
      "[Batch 1300/2263] [D loss: 0.0000] [G loss: 20.2857]\n"
     ]
    },
    {
     "name": "stderr",
     "output_type": "stream",
     "text": [
      "Training Epoch 9:  62%|█████████████        | 1401/2263 [15:16<10:49,  1.33it/s]"
     ]
    },
    {
     "name": "stdout",
     "output_type": "stream",
     "text": [
      "[Batch 1400/2263] [D loss: 0.0000] [G loss: 19.8822]\n"
     ]
    },
    {
     "name": "stderr",
     "output_type": "stream",
     "text": [
      "Training Epoch 9:  66%|█████████████▉       | 1501/2263 [16:22<09:36,  1.32it/s]"
     ]
    },
    {
     "name": "stdout",
     "output_type": "stream",
     "text": [
      "[Batch 1500/2263] [D loss: 0.0000] [G loss: 20.4434]\n"
     ]
    },
    {
     "name": "stderr",
     "output_type": "stream",
     "text": [
      "Training Epoch 9:  71%|██████████████▊      | 1601/2263 [17:28<08:20,  1.32it/s]"
     ]
    },
    {
     "name": "stdout",
     "output_type": "stream",
     "text": [
      "[Batch 1600/2263] [D loss: 0.0000] [G loss: 20.5459]\n"
     ]
    },
    {
     "name": "stderr",
     "output_type": "stream",
     "text": [
      "Training Epoch 9:  75%|███████████████▊     | 1701/2263 [18:34<07:06,  1.32it/s]"
     ]
    },
    {
     "name": "stdout",
     "output_type": "stream",
     "text": [
      "[Batch 1700/2263] [D loss: 0.0000] [G loss: 20.4014]\n"
     ]
    },
    {
     "name": "stderr",
     "output_type": "stream",
     "text": [
      "Training Epoch 9:  80%|████████████████▋    | 1801/2263 [19:40<05:50,  1.32it/s]"
     ]
    },
    {
     "name": "stdout",
     "output_type": "stream",
     "text": [
      "[Batch 1800/2263] [D loss: 0.0000] [G loss: 20.5410]\n"
     ]
    },
    {
     "name": "stderr",
     "output_type": "stream",
     "text": [
      "Training Epoch 9:  84%|█████████████████▋   | 1901/2263 [20:47<04:36,  1.31it/s]"
     ]
    },
    {
     "name": "stdout",
     "output_type": "stream",
     "text": [
      "[Batch 1900/2263] [D loss: 0.0000] [G loss: 20.4428]\n"
     ]
    },
    {
     "name": "stderr",
     "output_type": "stream",
     "text": [
      "Training Epoch 9:  88%|██████████████████▌  | 2001/2263 [21:53<03:18,  1.32it/s]"
     ]
    },
    {
     "name": "stdout",
     "output_type": "stream",
     "text": [
      "[Batch 2000/2263] [D loss: 0.0000] [G loss: 20.3800]\n"
     ]
    },
    {
     "name": "stderr",
     "output_type": "stream",
     "text": [
      "Training Epoch 9:  93%|███████████████████▍ | 2101/2263 [22:59<02:02,  1.32it/s]"
     ]
    },
    {
     "name": "stdout",
     "output_type": "stream",
     "text": [
      "[Batch 2100/2263] [D loss: 0.0000] [G loss: 20.3175]\n"
     ]
    },
    {
     "name": "stderr",
     "output_type": "stream",
     "text": [
      "Training Epoch 9:  97%|████████████████████▍| 2201/2263 [24:04<00:46,  1.33it/s]"
     ]
    },
    {
     "name": "stdout",
     "output_type": "stream",
     "text": [
      "[Batch 2200/2263] [D loss: 0.0000] [G loss: 20.6208]\n"
     ]
    },
    {
     "name": "stderr",
     "output_type": "stream",
     "text": [
      "Training Epoch 9: 100%|█████████████████████| 2263/2263 [24:44<00:00,  1.52it/s]\n"
     ]
    },
    {
     "name": "stdout",
     "output_type": "stream",
     "text": [
      "Epoch 9/50\n",
      "FID: 459.84\n",
      "Inception Score: 1.00\n",
      "CLIP Score: 18.48\n",
      "---------------------\n"
     ]
    },
    {
     "name": "stderr",
     "output_type": "stream",
     "text": [
      "Training Epoch 10:   0%|                       | 1/2263 [00:00<29:29,  1.28it/s]"
     ]
    },
    {
     "name": "stdout",
     "output_type": "stream",
     "text": [
      "[Batch 0/2263] [D loss: 0.0000] [G loss: 20.5242]\n"
     ]
    },
    {
     "name": "stderr",
     "output_type": "stream",
     "text": [
      "Training Epoch 10:   4%|▉                    | 101/2263 [01:02<25:56,  1.39it/s]"
     ]
    },
    {
     "name": "stdout",
     "output_type": "stream",
     "text": [
      "[Batch 100/2263] [D loss: 0.0000] [G loss: 20.6774]\n"
     ]
    },
    {
     "name": "stderr",
     "output_type": "stream",
     "text": [
      "Training Epoch 10:   9%|█▊                   | 201/2263 [02:06<25:14,  1.36it/s]"
     ]
    },
    {
     "name": "stdout",
     "output_type": "stream",
     "text": [
      "[Batch 200/2263] [D loss: 0.0000] [G loss: 20.6228]\n"
     ]
    },
    {
     "name": "stderr",
     "output_type": "stream",
     "text": [
      "Training Epoch 10:  13%|██▊                  | 301/2263 [03:11<24:15,  1.35it/s]"
     ]
    },
    {
     "name": "stdout",
     "output_type": "stream",
     "text": [
      "[Batch 300/2263] [D loss: 0.0000] [G loss: 20.5298]\n"
     ]
    },
    {
     "name": "stderr",
     "output_type": "stream",
     "text": [
      "Training Epoch 10:  18%|███▋                 | 401/2263 [04:16<23:36,  1.31it/s]"
     ]
    },
    {
     "name": "stdout",
     "output_type": "stream",
     "text": [
      "[Batch 400/2263] [D loss: 0.0000] [G loss: 20.6516]\n"
     ]
    },
    {
     "name": "stderr",
     "output_type": "stream",
     "text": [
      "Training Epoch 10:  22%|████▋                | 501/2263 [05:23<22:40,  1.30it/s]"
     ]
    },
    {
     "name": "stdout",
     "output_type": "stream",
     "text": [
      "[Batch 500/2263] [D loss: 0.0000] [G loss: 20.8765]\n"
     ]
    },
    {
     "name": "stderr",
     "output_type": "stream",
     "text": [
      "Training Epoch 10:  27%|█████▌               | 601/2263 [06:31<21:25,  1.29it/s]"
     ]
    },
    {
     "name": "stdout",
     "output_type": "stream",
     "text": [
      "[Batch 600/2263] [D loss: 0.0000] [G loss: 20.7277]\n"
     ]
    },
    {
     "name": "stderr",
     "output_type": "stream",
     "text": [
      "Training Epoch 10:  31%|██████▌              | 701/2263 [07:38<20:00,  1.30it/s]"
     ]
    },
    {
     "name": "stdout",
     "output_type": "stream",
     "text": [
      "[Batch 700/2263] [D loss: 0.0000] [G loss: 20.9260]\n"
     ]
    },
    {
     "name": "stderr",
     "output_type": "stream",
     "text": [
      "Training Epoch 10:  35%|███████▍             | 801/2263 [08:45<18:58,  1.28it/s]"
     ]
    },
    {
     "name": "stdout",
     "output_type": "stream",
     "text": [
      "[Batch 800/2263] [D loss: 0.0000] [G loss: 20.9610]\n"
     ]
    },
    {
     "name": "stderr",
     "output_type": "stream",
     "text": [
      "Training Epoch 10:  40%|████████▎            | 901/2263 [09:52<17:18,  1.31it/s]"
     ]
    },
    {
     "name": "stdout",
     "output_type": "stream",
     "text": [
      "[Batch 900/2263] [D loss: 0.0000] [G loss: 20.7060]\n"
     ]
    },
    {
     "name": "stderr",
     "output_type": "stream",
     "text": [
      "Training Epoch 10:  44%|████████▊           | 1001/2263 [10:58<16:00,  1.31it/s]"
     ]
    },
    {
     "name": "stdout",
     "output_type": "stream",
     "text": [
      "[Batch 1000/2263] [D loss: 0.0000] [G loss: 20.8708]\n"
     ]
    },
    {
     "name": "stderr",
     "output_type": "stream",
     "text": [
      "Training Epoch 10:  49%|█████████▋          | 1101/2263 [12:04<14:46,  1.31it/s]"
     ]
    },
    {
     "name": "stdout",
     "output_type": "stream",
     "text": [
      "[Batch 1100/2263] [D loss: 0.0000] [G loss: 20.8966]\n"
     ]
    },
    {
     "name": "stderr",
     "output_type": "stream",
     "text": [
      "Training Epoch 10:  53%|██████████▌         | 1201/2263 [13:11<13:29,  1.31it/s]"
     ]
    },
    {
     "name": "stdout",
     "output_type": "stream",
     "text": [
      "[Batch 1200/2263] [D loss: 0.0000] [G loss: 21.1452]\n"
     ]
    },
    {
     "name": "stderr",
     "output_type": "stream",
     "text": [
      "Training Epoch 10:  57%|███████████▍        | 1301/2263 [14:18<12:13,  1.31it/s]"
     ]
    },
    {
     "name": "stdout",
     "output_type": "stream",
     "text": [
      "[Batch 1300/2263] [D loss: 0.0000] [G loss: 20.7741]\n"
     ]
    },
    {
     "name": "stderr",
     "output_type": "stream",
     "text": [
      "Training Epoch 10:  62%|████████████▍       | 1401/2263 [15:24<10:56,  1.31it/s]"
     ]
    },
    {
     "name": "stdout",
     "output_type": "stream",
     "text": [
      "[Batch 1400/2263] [D loss: 0.0000] [G loss: 20.7760]\n"
     ]
    },
    {
     "name": "stderr",
     "output_type": "stream",
     "text": [
      "Training Epoch 10:  66%|█████████████▎      | 1501/2263 [16:31<09:41,  1.31it/s]"
     ]
    },
    {
     "name": "stdout",
     "output_type": "stream",
     "text": [
      "[Batch 1500/2263] [D loss: 0.0000] [G loss: 20.7923]\n"
     ]
    },
    {
     "name": "stderr",
     "output_type": "stream",
     "text": [
      "Training Epoch 10:  71%|██████████████▏     | 1601/2263 [17:37<08:25,  1.31it/s]"
     ]
    },
    {
     "name": "stdout",
     "output_type": "stream",
     "text": [
      "[Batch 1600/2263] [D loss: 0.0000] [G loss: 20.9540]\n"
     ]
    },
    {
     "name": "stderr",
     "output_type": "stream",
     "text": [
      "Training Epoch 10:  75%|███████████████     | 1701/2263 [18:44<07:09,  1.31it/s]"
     ]
    },
    {
     "name": "stdout",
     "output_type": "stream",
     "text": [
      "[Batch 1700/2263] [D loss: 0.0000] [G loss: 21.0456]\n"
     ]
    },
    {
     "name": "stderr",
     "output_type": "stream",
     "text": [
      "Training Epoch 10:  80%|███████████████▉    | 1801/2263 [19:51<05:52,  1.31it/s]"
     ]
    },
    {
     "name": "stdout",
     "output_type": "stream",
     "text": [
      "[Batch 1800/2263] [D loss: 0.0000] [G loss: 21.0202]\n"
     ]
    },
    {
     "name": "stderr",
     "output_type": "stream",
     "text": [
      "Training Epoch 10:  84%|████████████████▊   | 1901/2263 [20:58<04:37,  1.31it/s]"
     ]
    },
    {
     "name": "stdout",
     "output_type": "stream",
     "text": [
      "[Batch 1900/2263] [D loss: 0.0000] [G loss: 21.3407]\n"
     ]
    },
    {
     "name": "stderr",
     "output_type": "stream",
     "text": [
      "Training Epoch 10:  88%|█████████████████▋  | 2001/2263 [22:04<03:20,  1.31it/s]"
     ]
    },
    {
     "name": "stdout",
     "output_type": "stream",
     "text": [
      "[Batch 2000/2263] [D loss: 0.0000] [G loss: 21.4406]\n"
     ]
    },
    {
     "name": "stderr",
     "output_type": "stream",
     "text": [
      "Training Epoch 10:  93%|██████████████████▌ | 2101/2263 [23:11<02:03,  1.31it/s]"
     ]
    },
    {
     "name": "stdout",
     "output_type": "stream",
     "text": [
      "[Batch 2100/2263] [D loss: 0.0000] [G loss: 21.3915]\n"
     ]
    },
    {
     "name": "stderr",
     "output_type": "stream",
     "text": [
      "Training Epoch 10:  97%|███████████████████▍| 2201/2263 [24:18<00:47,  1.30it/s]"
     ]
    },
    {
     "name": "stdout",
     "output_type": "stream",
     "text": [
      "[Batch 2200/2263] [D loss: 0.0000] [G loss: 21.3613]\n"
     ]
    },
    {
     "name": "stderr",
     "output_type": "stream",
     "text": [
      "Training Epoch 10: 100%|████████████████████| 2263/2263 [24:59<00:00,  1.51it/s]\n"
     ]
    },
    {
     "name": "stdout",
     "output_type": "stream",
     "text": [
      "Epoch 10/50\n",
      "FID: 495.32\n",
      "Inception Score: 1.00\n",
      "CLIP Score: 17.22\n",
      "---------------------\n"
     ]
    },
    {
     "name": "stderr",
     "output_type": "stream",
     "text": [
      "Training Epoch 11:   0%|                       | 1/2263 [00:00<29:15,  1.29it/s]"
     ]
    },
    {
     "name": "stdout",
     "output_type": "stream",
     "text": [
      "[Batch 0/2263] [D loss: 0.0000] [G loss: 21.2343]\n"
     ]
    },
    {
     "name": "stderr",
     "output_type": "stream",
     "text": [
      "Training Epoch 11:   4%|▉                    | 101/2263 [01:02<25:53,  1.39it/s]"
     ]
    },
    {
     "name": "stdout",
     "output_type": "stream",
     "text": [
      "[Batch 100/2263] [D loss: 0.0000] [G loss: 21.4547]\n"
     ]
    },
    {
     "name": "stderr",
     "output_type": "stream",
     "text": [
      "Training Epoch 11:   9%|█▊                   | 201/2263 [02:06<25:11,  1.36it/s]"
     ]
    },
    {
     "name": "stdout",
     "output_type": "stream",
     "text": [
      "[Batch 200/2263] [D loss: 0.0000] [G loss: 21.1080]\n"
     ]
    },
    {
     "name": "stderr",
     "output_type": "stream",
     "text": [
      "Training Epoch 11:  13%|██▊                  | 301/2263 [03:11<24:21,  1.34it/s]"
     ]
    },
    {
     "name": "stdout",
     "output_type": "stream",
     "text": [
      "[Batch 300/2263] [D loss: 0.0000] [G loss: 21.0419]\n"
     ]
    },
    {
     "name": "stderr",
     "output_type": "stream",
     "text": [
      "Training Epoch 11:  16%|███▍                 | 365/2263 [03:53<20:15,  1.56it/s]\n"
     ]
    },
    {
     "ename": "KeyboardInterrupt",
     "evalue": "",
     "output_type": "error",
     "traceback": [
      "\u001b[31m---------------------------------------------------------------------------\u001b[39m",
      "\u001b[31mKeyboardInterrupt\u001b[39m                         Traceback (most recent call last)",
      "\u001b[36mCell\u001b[39m\u001b[36m \u001b[39m\u001b[32mIn[16]\u001b[39m\u001b[32m, line 35\u001b[39m\n\u001b[32m     33\u001b[39m optimizer_D.zero_grad()\n\u001b[32m     34\u001b[39m real_loss = adv_loss(discriminator(real_images, text_embedding.detach()), valid)\n\u001b[32m---> \u001b[39m\u001b[32m35\u001b[39m fake_loss = adv_loss(\u001b[43mdiscriminator\u001b[49m\u001b[43m(\u001b[49m\u001b[43mgen_images\u001b[49m\u001b[43m.\u001b[49m\u001b[43mdetach\u001b[49m\u001b[43m(\u001b[49m\u001b[43m)\u001b[49m\u001b[43m,\u001b[49m\u001b[43m \u001b[49m\u001b[43mtext_embedding\u001b[49m\u001b[43m.\u001b[49m\u001b[43mdetach\u001b[49m\u001b[43m(\u001b[49m\u001b[43m)\u001b[49m\u001b[43m)\u001b[49m, fake)\n\u001b[32m     37\u001b[39m d_loss = (real_loss + fake_loss) / \u001b[32m2\u001b[39m\n\u001b[32m     39\u001b[39m d_loss.backward()\n",
      "\u001b[36mFile \u001b[39m\u001b[32m/opt/anaconda3/envs/intro_dl/lib/python3.12/site-packages/torch/nn/modules/module.py:1736\u001b[39m, in \u001b[36mModule._wrapped_call_impl\u001b[39m\u001b[34m(self, *args, **kwargs)\u001b[39m\n\u001b[32m   1734\u001b[39m     \u001b[38;5;28;01mreturn\u001b[39;00m \u001b[38;5;28mself\u001b[39m._compiled_call_impl(*args, **kwargs)  \u001b[38;5;66;03m# type: ignore[misc]\u001b[39;00m\n\u001b[32m   1735\u001b[39m \u001b[38;5;28;01melse\u001b[39;00m:\n\u001b[32m-> \u001b[39m\u001b[32m1736\u001b[39m     \u001b[38;5;28;01mreturn\u001b[39;00m \u001b[38;5;28;43mself\u001b[39;49m\u001b[43m.\u001b[49m\u001b[43m_call_impl\u001b[49m\u001b[43m(\u001b[49m\u001b[43m*\u001b[49m\u001b[43margs\u001b[49m\u001b[43m,\u001b[49m\u001b[43m \u001b[49m\u001b[43m*\u001b[49m\u001b[43m*\u001b[49m\u001b[43mkwargs\u001b[49m\u001b[43m)\u001b[49m\n",
      "\u001b[36mFile \u001b[39m\u001b[32m/opt/anaconda3/envs/intro_dl/lib/python3.12/site-packages/torch/nn/modules/module.py:1747\u001b[39m, in \u001b[36mModule._call_impl\u001b[39m\u001b[34m(self, *args, **kwargs)\u001b[39m\n\u001b[32m   1742\u001b[39m \u001b[38;5;66;03m# If we don't have any hooks, we want to skip the rest of the logic in\u001b[39;00m\n\u001b[32m   1743\u001b[39m \u001b[38;5;66;03m# this function, and just call forward.\u001b[39;00m\n\u001b[32m   1744\u001b[39m \u001b[38;5;28;01mif\u001b[39;00m \u001b[38;5;129;01mnot\u001b[39;00m (\u001b[38;5;28mself\u001b[39m._backward_hooks \u001b[38;5;129;01mor\u001b[39;00m \u001b[38;5;28mself\u001b[39m._backward_pre_hooks \u001b[38;5;129;01mor\u001b[39;00m \u001b[38;5;28mself\u001b[39m._forward_hooks \u001b[38;5;129;01mor\u001b[39;00m \u001b[38;5;28mself\u001b[39m._forward_pre_hooks\n\u001b[32m   1745\u001b[39m         \u001b[38;5;129;01mor\u001b[39;00m _global_backward_pre_hooks \u001b[38;5;129;01mor\u001b[39;00m _global_backward_hooks\n\u001b[32m   1746\u001b[39m         \u001b[38;5;129;01mor\u001b[39;00m _global_forward_hooks \u001b[38;5;129;01mor\u001b[39;00m _global_forward_pre_hooks):\n\u001b[32m-> \u001b[39m\u001b[32m1747\u001b[39m     \u001b[38;5;28;01mreturn\u001b[39;00m \u001b[43mforward_call\u001b[49m\u001b[43m(\u001b[49m\u001b[43m*\u001b[49m\u001b[43margs\u001b[49m\u001b[43m,\u001b[49m\u001b[43m \u001b[49m\u001b[43m*\u001b[49m\u001b[43m*\u001b[49m\u001b[43mkwargs\u001b[49m\u001b[43m)\u001b[49m\n\u001b[32m   1749\u001b[39m result = \u001b[38;5;28;01mNone\u001b[39;00m\n\u001b[32m   1750\u001b[39m called_always_called_hooks = \u001b[38;5;28mset\u001b[39m()\n",
      "\u001b[36mFile \u001b[39m\u001b[32m~/UB_Work/intro_dl/Project_1/scripts/train_model.py:120\u001b[39m, in \u001b[36mDiscriminator.forward\u001b[39m\u001b[34m(self, img, text_embedding)\u001b[39m\n\u001b[32m    117\u001b[39m \u001b[38;5;28;01mdef\u001b[39;00m\u001b[38;5;250m \u001b[39m\u001b[34mforward\u001b[39m(\u001b[38;5;28mself\u001b[39m, img, text_embedding):\n\u001b[32m    118\u001b[39m     \u001b[38;5;66;03m# Ensure the image is resized to 256x256\u001b[39;00m\n\u001b[32m    119\u001b[39m     \u001b[38;5;28;01mif\u001b[39;00m img.shape[-\u001b[32m1\u001b[39m] != \u001b[32m256\u001b[39m \u001b[38;5;129;01mor\u001b[39;00m img.shape[-\u001b[32m2\u001b[39m] != \u001b[32m256\u001b[39m:\n\u001b[32m--> \u001b[39m\u001b[32m120\u001b[39m         img = \u001b[43mnn\u001b[49m\u001b[43m.\u001b[49m\u001b[43mfunctional\u001b[49m\u001b[43m.\u001b[49m\u001b[43minterpolate\u001b[49m\u001b[43m(\u001b[49m\u001b[43mimg\u001b[49m\u001b[43m,\u001b[49m\u001b[43m \u001b[49m\u001b[43msize\u001b[49m\u001b[43m=\u001b[49m\u001b[43m(\u001b[49m\u001b[32;43m256\u001b[39;49m\u001b[43m,\u001b[49m\u001b[43m \u001b[49m\u001b[32;43m256\u001b[39;49m\u001b[43m)\u001b[49m\u001b[43m,\u001b[49m\u001b[43m \u001b[49m\u001b[43mmode\u001b[49m\u001b[43m=\u001b[49m\u001b[33;43m'\u001b[39;49m\u001b[33;43mbilinear\u001b[39;49m\u001b[33;43m'\u001b[39;49m\u001b[43m,\u001b[49m\u001b[43m \u001b[49m\u001b[43malign_corners\u001b[49m\u001b[43m=\u001b[49m\u001b[38;5;28;43;01mFalse\u001b[39;49;00m\u001b[43m)\u001b[49m\n\u001b[32m    122\u001b[39m     img_features = \u001b[38;5;28mself\u001b[39m.conv_blocks(img)\n\u001b[32m    123\u001b[39m     img_features = img_features.view(img_features.size(\u001b[32m0\u001b[39m), -\u001b[32m1\u001b[39m)  \u001b[38;5;66;03m# Flatten image features\u001b[39;00m\n",
      "\u001b[36mFile \u001b[39m\u001b[32m/opt/anaconda3/envs/intro_dl/lib/python3.12/site-packages/torch/nn/functional.py:4580\u001b[39m, in \u001b[36minterpolate\u001b[39m\u001b[34m(input, size, scale_factor, mode, align_corners, recompute_scale_factor, antialias)\u001b[39m\n\u001b[32m   4571\u001b[39m         \u001b[38;5;28;01mif\u001b[39;00m torch.are_deterministic_algorithms_enabled() \u001b[38;5;129;01mand\u001b[39;00m (\n\u001b[32m   4572\u001b[39m             \u001b[38;5;28minput\u001b[39m.is_cuda \u001b[38;5;129;01mor\u001b[39;00m \u001b[38;5;28minput\u001b[39m.is_xpu\n\u001b[32m   4573\u001b[39m         ):\n\u001b[32m   4574\u001b[39m             \u001b[38;5;66;03m# Use slow decomp whose backward will be in terms of index_put\u001b[39;00m\n\u001b[32m   4575\u001b[39m             \u001b[38;5;66;03m# importlib is required because the import cannot be top level\u001b[39;00m\n\u001b[32m   4576\u001b[39m             \u001b[38;5;66;03m# (cycle) and cannot be nested (TS doesn't support)\u001b[39;00m\n\u001b[32m   4577\u001b[39m             \u001b[38;5;28;01mreturn\u001b[39;00m importlib.import_module(\n\u001b[32m   4578\u001b[39m                 \u001b[33m\"\u001b[39m\u001b[33mtorch._decomp.decompositions\u001b[39m\u001b[33m\"\u001b[39m\n\u001b[32m   4579\u001b[39m             )._upsample_linear_vec(\u001b[38;5;28minput\u001b[39m, output_size, align_corners, scale_factors)\n\u001b[32m-> \u001b[39m\u001b[32m4580\u001b[39m     \u001b[38;5;28;01mreturn\u001b[39;00m \u001b[43mtorch\u001b[49m\u001b[43m.\u001b[49m\u001b[43m_C\u001b[49m\u001b[43m.\u001b[49m\u001b[43m_nn\u001b[49m\u001b[43m.\u001b[49m\u001b[43mupsample_bilinear2d\u001b[49m\u001b[43m(\u001b[49m\n\u001b[32m   4581\u001b[39m \u001b[43m        \u001b[49m\u001b[38;5;28;43minput\u001b[39;49m\u001b[43m,\u001b[49m\u001b[43m \u001b[49m\u001b[43moutput_size\u001b[49m\u001b[43m,\u001b[49m\u001b[43m \u001b[49m\u001b[43malign_corners\u001b[49m\u001b[43m,\u001b[49m\u001b[43m \u001b[49m\u001b[43mscale_factors\u001b[49m\n\u001b[32m   4582\u001b[39m \u001b[43m    \u001b[49m\u001b[43m)\u001b[49m\n\u001b[32m   4583\u001b[39m \u001b[38;5;28;01mif\u001b[39;00m \u001b[38;5;28minput\u001b[39m.dim() == \u001b[32m5\u001b[39m \u001b[38;5;129;01mand\u001b[39;00m mode == \u001b[33m\"\u001b[39m\u001b[33mtrilinear\u001b[39m\u001b[33m\"\u001b[39m:\n\u001b[32m   4584\u001b[39m     \u001b[38;5;28;01massert\u001b[39;00m align_corners \u001b[38;5;129;01mis\u001b[39;00m \u001b[38;5;129;01mnot\u001b[39;00m \u001b[38;5;28;01mNone\u001b[39;00m\n",
      "\u001b[31mKeyboardInterrupt\u001b[39m: "
     ]
    }
   ],
   "source": [
    "# Assuming real_images, text_embedding, valid, and fake are already defined\n",
    "num_epochs =50\n",
    "for epoch in range(num_epochs):\n",
    "    # Training \n",
    "    generator.train()\n",
    "    discriminator.train()\n",
    "\n",
    "    for i, batch in enumerate(tqdm(train_loader, desc=f\"Training Epoch {epoch+1}\")):\n",
    "        # Skip batches with None values (if any fallthrough from dataset)\n",
    "        if None in batch.values():\n",
    "            continue\n",
    "        \n",
    "        real_images = batch['image'].to(device)\n",
    "        input_ids = batch[\"input_ids\"].to(device)\n",
    "        attention_mask = batch[\"attention_mask\"].to(device)\n",
    "\n",
    "        valid = torch.ones((real_images.size(0), 1), requires_grad=False).to(device)\n",
    "        fake = torch.zeros((real_images.size(0), 1), requires_grad=False).to(device)\n",
    "\n",
    "        # Train generator first\n",
    "        optimizer_G.zero_grad()\n",
    "        \n",
    "        text_embedding = text_encoder(input_ids, attention_mask)\n",
    "        noise = torch.randn(real_images.size(0), 100, device=device)\n",
    "        \n",
    "        gen_images = generator(text_embedding, noise)\n",
    "        g_loss = adv_loss(discriminator(gen_images, text_embedding), valid)\n",
    "        \n",
    "        g_loss.backward()\n",
    "        optimizer_G.step()\n",
    "\n",
    "        # Train discriminator\n",
    "        optimizer_D.zero_grad()\n",
    "        real_loss = adv_loss(discriminator(real_images, text_embedding.detach()), valid)\n",
    "        fake_loss = adv_loss(discriminator(gen_images.detach(), text_embedding.detach()), fake)\n",
    "        \n",
    "        d_loss = (real_loss + fake_loss) / 2\n",
    "\n",
    "        d_loss.backward()\n",
    "        optimizer_D.step()\n",
    "\n",
    "        if i % 100 == 0:\n",
    "            print(f\"[Batch {i}/{len(train_loader)}] [D loss: {d_loss.item():.4f}] [G loss: {g_loss.item():.4f}]\")\n",
    "\n",
    "    # Evaluate using evaluator\n",
    "    generator.eval()\n",
    "    evaluator.reset()\n",
    "\n",
    "    with torch.no_grad():\n",
    "        for batch in test_loader:\n",
    "            real_images = batch[\"image\"].to(device)\n",
    "            input_ids = batch[\"input_ids\"].to(device)\n",
    "            attention_mask = batch[\"attention_mask\"].to(device)\n",
    "            captions = batch[\"caption_text\"]\n",
    "\n",
    "            # Generate images\n",
    "            text_embedding = text_encoder(input_ids, attention_mask)\n",
    "            noise = torch.randn(real_images.size(0), 100).to(device)\n",
    "\n",
    "            fake_images = generator(text_embedding, noise)\n",
    "\n",
    "            metrics = evaluator.compute_metrics(\n",
    "                real_images,\n",
    "                fake_images,\n",
    "                captions\n",
    "            )\n",
    "\n",
    "        print(f\"Epoch {epoch+1}/{num_epochs}\")\n",
    "        print(f\"FID: {metrics['fid']:.2f}\")\n",
    "        print(f\"Inception Score: {metrics['inception_score']:.2f}\")\n",
    "        print(f\"CLIP Score: {metrics['clip_score']:.2f}\")\n",
    "        print(\"---------------------\")\n",
    "\n",
    "        # Save the model checkpoints to use later\n",
    "        if (epoch + 1) % 10 == 0:\n",
    "            torch.save({\n",
    "                'generator': generator.state_dict(),\n",
    "                'discriminator': discriminator.state_dict(),\n",
    "                'text_encoder': text_encoder.state_dict(),\n",
    "                'metrics': metrics\n",
    "            }, f\"checkpoints_epoch{epoch+1}.pt\")"
   ]
  },
  {
   "cell_type": "code",
   "execution_count": null,
   "id": "2e3e4390-d1b2-41d0-bcf6-d2da18de4788",
   "metadata": {},
   "outputs": [],
   "source": [
    "text_prompt = \"man standing\"\n",
    "generated_image = generate_image_from_text(\n",
    "    text_prompt, \n",
    "    text_encoder, \n",
    "    generator, \n",
    "    device\n",
    ")\n",
    "\n",
    "plt.imshow(generated_image)\n",
    "plt.axis('off')\n",
    "plt.title(text_prompt)\n",
    "plt.show()"
   ]
  },
  {
   "cell_type": "markdown",
   "id": "09dc82a1-dc74-4567-bbff-edb3bc44fdbd",
   "metadata": {},
   "source": [
    "## Evaluate on test data"
   ]
  },
  {
   "cell_type": "code",
   "execution_count": null,
   "id": "f4fcc39c-cb99-40bc-b907-23d238826eb3",
   "metadata": {},
   "outputs": [],
   "source": []
  },
  {
   "cell_type": "code",
   "execution_count": null,
   "id": "2160ba3e-b072-4698-b73a-0caa337d3601",
   "metadata": {},
   "outputs": [],
   "source": []
  }
 ],
 "metadata": {
  "kernelspec": {
   "display_name": "intro_dl",
   "language": "python",
   "name": "myenv"
  },
  "language_info": {
   "codemirror_mode": {
    "name": "ipython",
    "version": 3
   },
   "file_extension": ".py",
   "mimetype": "text/x-python",
   "name": "python",
   "nbconvert_exporter": "python",
   "pygments_lexer": "ipython3",
   "version": "3.12.2"
  }
 },
 "nbformat": 4,
 "nbformat_minor": 5
}
